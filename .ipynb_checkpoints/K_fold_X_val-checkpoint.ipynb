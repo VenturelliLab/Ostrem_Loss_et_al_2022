{
 "cells": [
  {
   "cell_type": "code",
   "execution_count": 1,
   "metadata": {},
   "outputs": [],
   "source": [
    "import itertools\n",
    "\n",
    "import numpy as np\n",
    "import pandas as pd\n",
    "import matplotlib.pyplot as plt\n",
    "import seaborn as sns\n",
    "import scipy as sp\n",
    "\n",
    "from scipy.integrate import odeint, solve_ivp\n",
    "from scipy.optimize import minimize\n",
    "from scipy.stats import linregress, spearmanr, norm\n",
    "\n",
    "from gLV_fit_lambda import *"
   ]
  },
  {
   "cell_type": "markdown",
   "metadata": {},
   "source": [
    "# Start by importing a full data set "
   ]
  },
  {
   "cell_type": "code",
   "execution_count": 2,
   "metadata": {},
   "outputs": [
    {
     "name": "stdout",
     "output_type": "stream",
     "text": [
      "(473, 12)\n"
     ]
    },
    {
     "data": {
      "text/html": [
       "<div>\n",
       "<style scoped>\n",
       "    .dataframe tbody tr th:only-of-type {\n",
       "        vertical-align: middle;\n",
       "    }\n",
       "\n",
       "    .dataframe tbody tr th {\n",
       "        vertical-align: top;\n",
       "    }\n",
       "\n",
       "    .dataframe thead th {\n",
       "        text-align: right;\n",
       "    }\n",
       "</style>\n",
       "<table border=\"1\" class=\"dataframe\">\n",
       "  <thead>\n",
       "    <tr style=\"text-align: right;\">\n",
       "      <th></th>\n",
       "      <th>Treatments</th>\n",
       "      <th>Time</th>\n",
       "      <th>S1</th>\n",
       "      <th>S2</th>\n",
       "      <th>S3</th>\n",
       "      <th>S4</th>\n",
       "      <th>S5</th>\n",
       "      <th>S6</th>\n",
       "      <th>S7</th>\n",
       "      <th>S8</th>\n",
       "      <th>S9</th>\n",
       "      <th>S10</th>\n",
       "    </tr>\n",
       "  </thead>\n",
       "  <tbody>\n",
       "    <tr>\n",
       "      <th>0</th>\n",
       "      <td>COMM10&lt;AC_passage1.0</td>\n",
       "      <td>0.0</td>\n",
       "      <td>0.002365</td>\n",
       "      <td>0.000840</td>\n",
       "      <td>0.000829</td>\n",
       "      <td>0.001313</td>\n",
       "      <td>0.000970</td>\n",
       "      <td>0.000679</td>\n",
       "      <td>0.000812</td>\n",
       "      <td>0.000646</td>\n",
       "      <td>0.001287</td>\n",
       "      <td>0.000257</td>\n",
       "    </tr>\n",
       "    <tr>\n",
       "      <th>1</th>\n",
       "      <td>COMM10&lt;AC_passage1.0</td>\n",
       "      <td>24.0</td>\n",
       "      <td>0.011591</td>\n",
       "      <td>0.553315</td>\n",
       "      <td>0.075293</td>\n",
       "      <td>0.325136</td>\n",
       "      <td>0.060694</td>\n",
       "      <td>0.790717</td>\n",
       "      <td>0.021521</td>\n",
       "      <td>0.014780</td>\n",
       "      <td>0.015808</td>\n",
       "      <td>0.055311</td>\n",
       "    </tr>\n",
       "    <tr>\n",
       "      <th>2</th>\n",
       "      <td>COMM10&lt;AC_passage2.0</td>\n",
       "      <td>0.0</td>\n",
       "      <td>0.000580</td>\n",
       "      <td>0.027666</td>\n",
       "      <td>0.003765</td>\n",
       "      <td>0.016257</td>\n",
       "      <td>0.003035</td>\n",
       "      <td>0.039536</td>\n",
       "      <td>0.001076</td>\n",
       "      <td>0.000739</td>\n",
       "      <td>0.000790</td>\n",
       "      <td>0.002766</td>\n",
       "    </tr>\n",
       "    <tr>\n",
       "      <th>3</th>\n",
       "      <td>COMM10&lt;AC_passage2.0</td>\n",
       "      <td>24.0</td>\n",
       "      <td>0.002481</td>\n",
       "      <td>0.096672</td>\n",
       "      <td>0.139392</td>\n",
       "      <td>0.636775</td>\n",
       "      <td>0.032067</td>\n",
       "      <td>0.770841</td>\n",
       "      <td>0.122771</td>\n",
       "      <td>0.001803</td>\n",
       "      <td>0.004748</td>\n",
       "      <td>0.120618</td>\n",
       "    </tr>\n",
       "    <tr>\n",
       "      <th>4</th>\n",
       "      <td>COMM10&lt;AC_passage3.0</td>\n",
       "      <td>0.0</td>\n",
       "      <td>0.000124</td>\n",
       "      <td>0.004834</td>\n",
       "      <td>0.006970</td>\n",
       "      <td>0.031839</td>\n",
       "      <td>0.001603</td>\n",
       "      <td>0.038542</td>\n",
       "      <td>0.006139</td>\n",
       "      <td>0.000090</td>\n",
       "      <td>0.000237</td>\n",
       "      <td>0.006031</td>\n",
       "    </tr>\n",
       "  </tbody>\n",
       "</table>\n",
       "</div>"
      ],
      "text/plain": [
       "             Treatments  Time        S1        S2        S3        S4  \\\n",
       "0  COMM10<AC_passage1.0   0.0  0.002365  0.000840  0.000829  0.001313   \n",
       "1  COMM10<AC_passage1.0  24.0  0.011591  0.553315  0.075293  0.325136   \n",
       "2  COMM10<AC_passage2.0   0.0  0.000580  0.027666  0.003765  0.016257   \n",
       "3  COMM10<AC_passage2.0  24.0  0.002481  0.096672  0.139392  0.636775   \n",
       "4  COMM10<AC_passage3.0   0.0  0.000124  0.004834  0.006970  0.031839   \n",
       "\n",
       "         S5        S6        S7        S8        S9       S10  \n",
       "0  0.000970  0.000679  0.000812  0.000646  0.001287  0.000257  \n",
       "1  0.060694  0.790717  0.021521  0.014780  0.015808  0.055311  \n",
       "2  0.003035  0.039536  0.001076  0.000739  0.000790  0.002766  \n",
       "3  0.032067  0.770841  0.122771  0.001803  0.004748  0.120618  \n",
       "4  0.001603  0.038542  0.006139  0.000090  0.000237  0.006031  "
      ]
     },
     "execution_count": 2,
     "metadata": {},
     "output_type": "execute_result"
    }
   ],
   "source": [
    "dataset = \"Inulin\"\n",
    "df = pd.read_csv(f\"Data/{dataset}_full_passage.csv\")\n",
    "print(df.shape)\n",
    "df.head()"
   ]
  },
  {
   "cell_type": "markdown",
   "metadata": {},
   "source": [
    "# Specify Treatments subject to testing (exclude monospecies) "
   ]
  },
  {
   "cell_type": "code",
   "execution_count": 3,
   "metadata": {},
   "outputs": [],
   "source": [
    "# exclude monoculture experiments \n",
    "treatments = [t for t in np.unique(df.Treatments) if \"Mono\" not in t]\n",
    "\n",
    "# create K randomly distributed disjoint subsets of the data \n",
    "K = 10\n",
    "k = len(treatments) // K\n",
    "np.random.shuffle(treatments)\n",
    "test_sets = [treatments[i*k:(i+1)*k] for i in range(K)] \n",
    "test_sets.append(treatments[K*k:])"
   ]
  },
  {
   "cell_type": "markdown",
   "metadata": {},
   "source": [
    "# Initialize model parameters (all zeros except self-interaction terms=-1)"
   ]
  },
  {
   "cell_type": "code",
   "execution_count": 4,
   "metadata": {},
   "outputs": [
    {
     "name": "stdout",
     "output_type": "stream",
     "text": [
      "Model has 110 parameters\n"
     ]
    }
   ],
   "source": [
    "# specify species and metabolite names \n",
    "species = ['S'+str(i+1) for i in range(10)]\n",
    "\n",
    "# compute number of parameters\n",
    "dimx = len(species)\n",
    "n_params = dimx + dimx*dimx\n",
    "print(f\"Model has {n_params} parameters\")\n",
    "\n",
    "# set initial parameter guess \n",
    "params = np.zeros(n_params)\n",
    "params[:dimx] = 0.3\n",
    "k = dimx\n",
    "for i in range(dimx):\n",
    "    for j in range(dimx):\n",
    "        if i == j:\n",
    "            params[k] = -1.\n",
    "        k+=1"
   ]
  },
  {
   "cell_type": "markdown",
   "metadata": {},
   "source": [
    "# Define function to make test predictions"
   ]
  },
  {
   "cell_type": "code",
   "execution_count": 5,
   "metadata": {},
   "outputs": [],
   "source": [
    "def test_model(model, df_test, plot=False):\n",
    "    all_treatments = df_test.Treatments.values\n",
    "    species_names = df_test.columns.values[2:]\n",
    "    unique_treatments = np.unique(all_treatments)\n",
    "    numspecies = df_test.shape[1]-2\n",
    "    \n",
    "    # save true and predicted values\n",
    "    y_true = []\n",
    "    y_pred = []\n",
    "    y_std  = []\n",
    "    test_treatments = []\n",
    "    test_times = []\n",
    "    species = []\n",
    "\n",
    "    # pull a random community trajectory\n",
    "    for treatment in unique_treatments:\n",
    "        comm_inds = np.in1d(df_test['Treatments'].values, treatment)\n",
    "        comm_data = df_test.iloc[comm_inds].copy()\n",
    "\n",
    "        # make sure comm_data is sorted in chronological order\n",
    "        comm_data.sort_values(by='Time', ascending=True, inplace=True)\n",
    "        tspan = comm_data.Time.values\n",
    "        \n",
    "        # pull just the community data\n",
    "        output_true = comm_data[species_names].values\n",
    "\n",
    "        # run model using parameters\n",
    "        x_test = np.copy(output_true[0, :])\n",
    "\n",
    "        # test full community\n",
    "        try:\n",
    "            output, variance, H = model.predict(x_test, tspan)\n",
    "        except:\n",
    "            print(treatment)\n",
    "            stop\n",
    "        \n",
    "        # save predictions after initial value \n",
    "        for i, (true, pred, var) in enumerate(zip(output_true[1:], output[1:], variance[1:])):\n",
    "            y_true += list(true)\n",
    "            y_pred += list(pred)\n",
    "            y_std  += list(np.sqrt(var))\n",
    "            test_times += [tspan[i+1]]*numspecies\n",
    "            species += list(species_names)\n",
    "            test_treatments += [treatment]*numspecies\n",
    "        \n",
    "        if plot:\n",
    "            # increase teval\n",
    "            t_eval = np.linspace(0, tspan[-1])\n",
    "            steps = len(t_eval)\n",
    "            output, variance, H = model.predict(x_test, t_eval)   \n",
    "            \n",
    "            # plot the results\n",
    "            plt.figure(figsize=(9, 6))\n",
    "            ylim = 0\n",
    "            for i in range(numspecies):\n",
    "                out = output[:,i]\n",
    "                out_true = output_true[:, i]\n",
    "                std = np.sqrt(variance[:, i])\n",
    "                if ylim < np.max([np.max(out) + np.max(std)+.1, np.max(out_true)+.1]):\n",
    "                    ylim = np.max([np.max(out) + np.max(std)+.1, np.max(out_true)+.1])\n",
    "                if out[0] > 0:\n",
    "                    plt.scatter(tspan, out_true, label=\"True species \" + str(i+1), color='C{}'.format(i))\n",
    "                    plt.plot(t_eval, out, label=\"Predicted species \" + str(i+1), color='C{}'.format(i))\n",
    "                    plt.fill_between(t_eval, out-std, out+std, color='C{}'.format(i), alpha=0.2)\n",
    "\n",
    "            plt.xlabel(\"time\", fontsize=16)\n",
    "            plt.ylabel(\"Abundance\", fontsize=16)\n",
    "            plt.legend(loc='upper left')\n",
    "            plt.ylim([0, np.min([ylim, 3])])\n",
    "            plt.title(f\"Treatment {treatment} predictions\")\n",
    "            #plt.savefig(\"Kfold/Figures/{}_{}.pdf\".format(dataset.replace(\"_\",\"\"), treatment.replace(\"<\",\"\")))\n",
    "            plt.close()\n",
    "            #plt.show()\n",
    "\n",
    "    return test_treatments, test_times, species, y_true, y_pred, y_std"
   ]
  },
  {
   "cell_type": "markdown",
   "metadata": {},
   "source": [
    "# Run K-fold training and testing"
   ]
  },
  {
   "cell_type": "code",
   "execution_count": 6,
   "metadata": {
    "scrolled": true
   },
   "outputs": [
    {
     "name": "stderr",
     "output_type": "stream",
     "text": [
      "  8%|██████▏                                                                           | 8/105 [00:00<00:01, 75.61it/s]"
     ]
    },
    {
     "name": "stdout",
     "output_type": "stream",
     "text": [
      "Training fold 1/11\n",
      "\n",
      "Running gradient descent...\n",
      "Updating precision...\n"
     ]
    },
    {
     "name": "stderr",
     "output_type": "stream",
     "text": [
      "100%|███████████████████████████████████████████████████████████████████████████████| 105/105 [00:00<00:00, 109.95it/s]\n"
     ]
    },
    {
     "name": "stdout",
     "output_type": "stream",
     "text": [
      "Iteration: 0, Loss: 8.175e+02, Convergence rate: inf\n",
      "Iteration: 1, Loss: 8.057e+02, Convergence rate: 1.444e-02\n",
      "Iteration: 2, Loss: 7.940e+02, Convergence rate: 1.445e-02\n",
      "Iteration: 3, Loss: 7.826e+02, Convergence rate: 1.445e-02\n",
      "Iteration: 4, Loss: 7.713e+02, Convergence rate: 1.444e-02\n",
      "Iteration: 5, Loss: 7.601e+02, Convergence rate: 1.445e-02\n",
      "Iteration: 6, Loss: 7.491e+02, Convergence rate: 1.443e-02\n",
      "Iteration: 7, Loss: 7.383e+02, Convergence rate: 1.443e-02\n",
      "Iteration: 8, Loss: 7.277e+02, Convergence rate: 1.441e-02\n",
      "Iteration: 9, Loss: 7.172e+02, Convergence rate: 1.439e-02\n",
      "Iteration: 10, Loss: 7.069e+02, Convergence rate: 1.438e-02\n",
      "Iteration: 11, Loss: 6.968e+02, Convergence rate: 1.435e-02\n",
      "Iteration: 12, Loss: 6.868e+02, Convergence rate: 1.432e-02\n",
      "Iteration: 13, Loss: 6.770e+02, Convergence rate: 1.430e-02\n",
      "Iteration: 14, Loss: 6.673e+02, Convergence rate: 1.427e-02\n",
      "Iteration: 15, Loss: 6.578e+02, Convergence rate: 1.423e-02\n",
      "Iteration: 16, Loss: 6.485e+02, Convergence rate: 1.421e-02\n",
      "Iteration: 17, Loss: 6.393e+02, Convergence rate: 1.416e-02\n",
      "Iteration: 18, Loss: 6.302e+02, Convergence rate: 1.413e-02\n",
      "Iteration: 19, Loss: 6.214e+02, Convergence rate: 1.408e-02\n",
      "Iteration: 20, Loss: 6.127e+02, Convergence rate: 1.403e-02\n",
      "Iteration: 21, Loss: 6.041e+02, Convergence rate: 1.399e-02\n",
      "Iteration: 22, Loss: 5.957e+02, Convergence rate: 1.395e-02\n",
      "Iteration: 23, Loss: 5.874e+02, Convergence rate: 1.388e-02\n",
      "Iteration: 24, Loss: 5.792e+02, Convergence rate: 1.386e-02\n",
      "Iteration: 25, Loss: 5.713e+02, Convergence rate: 1.377e-02\n",
      "Iteration: 26, Loss: 5.634e+02, Convergence rate: 1.374e-02\n",
      "Iteration: 27, Loss: 5.557e+02, Convergence rate: 1.368e-02\n",
      "Iteration: 28, Loss: 5.482e+02, Convergence rate: 1.361e-02\n",
      "Iteration: 29, Loss: 5.407e+02, Convergence rate: 1.357e-02\n",
      "Iteration: 30, Loss: 5.334e+02, Convergence rate: 1.349e-02\n",
      "Iteration: 31, Loss: 5.263e+02, Convergence rate: 1.344e-02\n",
      "Iteration: 32, Loss: 5.192e+02, Convergence rate: 1.337e-02\n",
      "Iteration: 33, Loss: 5.123e+02, Convergence rate: 1.332e-02\n",
      "Iteration: 34, Loss: 5.055e+02, Convergence rate: 1.323e-02\n",
      "Iteration: 35, Loss: 4.989e+02, Convergence rate: 1.317e-02\n",
      "Iteration: 36, Loss: 4.923e+02, Convergence rate: 1.312e-02\n",
      "Iteration: 37, Loss: 4.859e+02, Convergence rate: 1.303e-02\n",
      "Iteration: 38, Loss: 4.796e+02, Convergence rate: 1.294e-02\n",
      "Iteration: 39, Loss: 4.734e+02, Convergence rate: 1.290e-02\n",
      "Iteration: 40, Loss: 4.674e+02, Convergence rate: 1.281e-02\n",
      "Iteration: 41, Loss: 4.614e+02, Convergence rate: 1.275e-02\n",
      "Iteration: 42, Loss: 4.556e+02, Convergence rate: 1.267e-02\n",
      "Iteration: 43, Loss: 4.498e+02, Convergence rate: 1.260e-02\n",
      "Iteration: 44, Loss: 4.442e+02, Convergence rate: 1.252e-02\n",
      "Iteration: 45, Loss: 4.387e+02, Convergence rate: 1.245e-02\n",
      "Iteration: 46, Loss: 4.332e+02, Convergence rate: 1.238e-02\n",
      "Iteration: 47, Loss: 4.279e+02, Convergence rate: 1.227e-02\n",
      "Iteration: 48, Loss: 4.227e+02, Convergence rate: 1.221e-02\n",
      "Iteration: 49, Loss: 4.176e+02, Convergence rate: 1.215e-02\n",
      "Iteration: 50, Loss: 4.125e+02, Convergence rate: 1.204e-02\n",
      "Iteration: 51, Loss: 4.076e+02, Convergence rate: 1.194e-02\n",
      "Iteration: 52, Loss: 4.027e+02, Convergence rate: 1.190e-02\n",
      "Iteration: 53, Loss: 3.980e+02, Convergence rate: 1.181e-02\n",
      "Iteration: 54, Loss: 3.933e+02, Convergence rate: 1.171e-02\n",
      "Iteration: 55, Loss: 3.888e+02, Convergence rate: 1.162e-02\n",
      "Iteration: 56, Loss: 3.843e+02, Convergence rate: 1.154e-02\n",
      "Iteration: 57, Loss: 3.799e+02, Convergence rate: 1.146e-02\n",
      "Iteration: 58, Loss: 3.755e+02, Convergence rate: 1.141e-02\n",
      "Iteration: 59, Loss: 3.713e+02, Convergence rate: 1.130e-02\n",
      "Iteration: 60, Loss: 3.671e+02, Convergence rate: 1.119e-02\n",
      "Iteration: 61, Loss: 3.631e+02, Convergence rate: 1.111e-02\n",
      "Iteration: 62, Loss: 3.590e+02, Convergence rate: 1.106e-02\n",
      "Iteration: 63, Loss: 3.551e+02, Convergence rate: 1.094e-02\n",
      "Iteration: 64, Loss: 3.513e+02, Convergence rate: 1.086e-02\n",
      "Iteration: 65, Loss: 3.475e+02, Convergence rate: 1.078e-02\n",
      "Iteration: 66, Loss: 3.438e+02, Convergence rate: 1.069e-02\n",
      "Iteration: 67, Loss: 3.401e+02, Convergence rate: 1.060e-02\n",
      "Iteration: 68, Loss: 3.365e+02, Convergence rate: 1.049e-02\n",
      "Iteration: 69, Loss: 3.330e+02, Convergence rate: 1.044e-02\n",
      "Iteration: 70, Loss: 3.296e+02, Convergence rate: 1.034e-02\n",
      "Iteration: 71, Loss: 3.262e+02, Convergence rate: 1.023e-02\n",
      "Iteration: 72, Loss: 3.229e+02, Convergence rate: 1.014e-02\n",
      "Iteration: 73, Loss: 3.197e+02, Convergence rate: 1.009e-02\n",
      "Iteration: 74, Loss: 3.165e+02, Convergence rate: 9.960e-03\n",
      "Step size set to 2.000e-02\n",
      "Iteration: 75, Loss: 3.102e+02, Convergence rate: 1.972e-02\n",
      "Iteration: 76, Loss: 3.042e+02, Convergence rate: 1.933e-02\n",
      "Iteration: 77, Loss: 2.985e+02, Convergence rate: 1.898e-02\n",
      "Iteration: 78, Loss: 2.929e+02, Convergence rate: 1.864e-02\n",
      "Iteration: 79, Loss: 2.875e+02, Convergence rate: 1.825e-02\n",
      "Iteration: 80, Loss: 2.824e+02, Convergence rate: 1.789e-02\n",
      "Iteration: 81, Loss: 2.775e+02, Convergence rate: 1.751e-02\n",
      "Iteration: 82, Loss: 2.727e+02, Convergence rate: 1.718e-02\n",
      "Iteration: 83, Loss: 2.681e+02, Convergence rate: 1.686e-02\n",
      "Iteration: 84, Loss: 2.637e+02, Convergence rate: 1.642e-02\n",
      "Iteration: 85, Loss: 2.594e+02, Convergence rate: 1.610e-02\n",
      "Iteration: 86, Loss: 2.554e+02, Convergence rate: 1.575e-02\n",
      "Iteration: 87, Loss: 2.514e+02, Convergence rate: 1.538e-02\n",
      "Iteration: 88, Loss: 2.477e+02, Convergence rate: 1.506e-02\n",
      "Iteration: 89, Loss: 2.440e+02, Convergence rate: 1.471e-02\n",
      "Iteration: 90, Loss: 2.405e+02, Convergence rate: 1.434e-02\n",
      "Iteration: 91, Loss: 2.371e+02, Convergence rate: 1.401e-02\n",
      "Iteration: 92, Loss: 2.339e+02, Convergence rate: 1.367e-02\n",
      "Iteration: 93, Loss: 2.308e+02, Convergence rate: 1.335e-02\n",
      "Iteration: 94, Loss: 2.278e+02, Convergence rate: 1.302e-02\n",
      "Iteration: 95, Loss: 2.249e+02, Convergence rate: 1.271e-02\n",
      "Iteration: 96, Loss: 2.221e+02, Convergence rate: 1.241e-02\n",
      "Iteration: 97, Loss: 2.194e+02, Convergence rate: 1.202e-02\n",
      "Iteration: 98, Loss: 2.168e+02, Convergence rate: 1.175e-02\n",
      "Iteration: 99, Loss: 2.144e+02, Convergence rate: 1.145e-02\n",
      "Iteration: 100, Loss: 2.120e+02, Convergence rate: 1.113e-02\n"
     ]
    },
    {
     "name": "stderr",
     "output_type": "stream",
     "text": [
      " 10%|████████▍                                                                       | 11/105 [00:00<00:00, 106.01it/s]"
     ]
    },
    {
     "name": "stdout",
     "output_type": "stream",
     "text": [
      "Iteration: 101, Loss: 2.097e+02, Convergence rate: 1.089e-02\n",
      "Evidence 21987.930\n",
      "Updating precision...\n"
     ]
    },
    {
     "name": "stderr",
     "output_type": "stream",
     "text": [
      "100%|████████████████████████████████████████████████████████████████████████████████| 105/105 [00:02<00:00, 50.49it/s]\n"
     ]
    },
    {
     "name": "stdout",
     "output_type": "stream",
     "text": [
      "Total samples: 1635, Updated regularization: 1.00e-01\n",
      "Iteration: 0, Loss: 6.834e+02, Convergence rate: inf\n",
      "Iteration: 1, Loss: 6.800e+02, Convergence rate: 4.998e-03\n",
      "Step size set to 2.000e-02\n"
     ]
    },
    {
     "name": "stderr",
     "output_type": "stream",
     "text": [
      " 10%|████████▍                                                                       | 11/105 [00:00<00:00, 101.61it/s]"
     ]
    },
    {
     "name": "stdout",
     "output_type": "stream",
     "text": [
      "Iteration: 2, Loss: 6.733e+02, Convergence rate: 9.922e-03\n",
      "Step size set to 4.000e-02\n",
      "Evidence 31111.738\n",
      "Updating precision...\n"
     ]
    },
    {
     "name": "stderr",
     "output_type": "stream",
     "text": [
      "100%|████████████████████████████████████████████████████████████████████████████████| 105/105 [00:01<00:00, 53.27it/s]\n"
     ]
    },
    {
     "name": "stdout",
     "output_type": "stream",
     "text": [
      "Total samples: 1635, Updated regularization: 1.51e-01\n",
      "Iteration: 0, Loss: 8.026e+02, Convergence rate: inf\n",
      "Iteration: 1, Loss: 7.990e+02, Convergence rate: 4.569e-03\n",
      "Step size set to 2.000e-02\n"
     ]
    },
    {
     "name": "stderr",
     "output_type": "stream",
     "text": [
      "  1%|▊                                                                                 | 1/105 [00:00<00:14,  7.11it/s]"
     ]
    },
    {
     "name": "stdout",
     "output_type": "stream",
     "text": [
      "Iteration: 2, Loss: 7.918e+02, Convergence rate: 9.003e-03\n",
      "Step size set to 4.000e-02\n",
      "Evidence 32311.932\n",
      "Updating precision...\n"
     ]
    },
    {
     "name": "stderr",
     "output_type": "stream",
     "text": [
      "100%|████████████████████████████████████████████████████████████████████████████████| 105/105 [00:01<00:00, 61.04it/s]\n"
     ]
    },
    {
     "name": "stdout",
     "output_type": "stream",
     "text": [
      "Total samples: 1635, Updated regularization: 1.59e-01\n",
      "Iteration: 0, Loss: 8.153e+02, Convergence rate: inf\n",
      "Iteration: 1, Loss: 8.118e+02, Convergence rate: 4.388e-03\n",
      "Step size set to 2.000e-02\n",
      "Iteration: 2, Loss: 8.048e+02, Convergence rate: 8.561e-03\n",
      "Step size set to 4.000e-02\n",
      "Evidence 32519.497\n",
      "Elapsed time: 104.248\n"
     ]
    },
    {
     "name": "stderr",
     "output_type": "stream",
     "text": [
      " 21%|████████████████▊                                                               | 22/105 [00:00<00:00, 219.93it/s]"
     ]
    },
    {
     "name": "stdout",
     "output_type": "stream",
     "text": [
      "Training fold 2/11\n",
      "\n",
      "Running gradient descent...\n",
      "Updating precision...\n"
     ]
    },
    {
     "name": "stderr",
     "output_type": "stream",
     "text": [
      "100%|███████████████████████████████████████████████████████████████████████████████| 105/105 [00:00<00:00, 223.51it/s]\n"
     ]
    },
    {
     "name": "stdout",
     "output_type": "stream",
     "text": [
      "Iteration: 0, Loss: 8.265e+02, Convergence rate: inf\n",
      "Iteration: 1, Loss: 8.143e+02, Convergence rate: 1.475e-02\n",
      "Iteration: 2, Loss: 8.023e+02, Convergence rate: 1.476e-02\n",
      "Iteration: 3, Loss: 7.904e+02, Convergence rate: 1.477e-02\n",
      "Iteration: 4, Loss: 7.787e+02, Convergence rate: 1.478e-02\n",
      "Iteration: 5, Loss: 7.673e+02, Convergence rate: 1.475e-02\n",
      "Iteration: 6, Loss: 7.559e+02, Convergence rate: 1.476e-02\n",
      "Iteration: 7, Loss: 7.448e+02, Convergence rate: 1.474e-02\n",
      "Iteration: 8, Loss: 7.338e+02, Convergence rate: 1.473e-02\n",
      "Iteration: 9, Loss: 7.230e+02, Convergence rate: 1.471e-02\n",
      "Iteration: 10, Loss: 7.124e+02, Convergence rate: 1.467e-02\n",
      "Iteration: 11, Loss: 7.020e+02, Convergence rate: 1.465e-02\n",
      "Iteration: 12, Loss: 6.917e+02, Convergence rate: 1.463e-02\n",
      "Iteration: 13, Loss: 6.816e+02, Convergence rate: 1.458e-02\n",
      "Iteration: 14, Loss: 6.717e+02, Convergence rate: 1.455e-02\n",
      "Iteration: 15, Loss: 6.620e+02, Convergence rate: 1.451e-02\n",
      "Iteration: 16, Loss: 6.524e+02, Convergence rate: 1.445e-02\n",
      "Iteration: 17, Loss: 6.430e+02, Convergence rate: 1.442e-02\n",
      "Iteration: 18, Loss: 6.338e+02, Convergence rate: 1.435e-02\n",
      "Iteration: 19, Loss: 6.247e+02, Convergence rate: 1.431e-02\n",
      "Iteration: 20, Loss: 6.158e+02, Convergence rate: 1.426e-02\n",
      "Iteration: 21, Loss: 6.070e+02, Convergence rate: 1.419e-02\n",
      "Iteration: 22, Loss: 5.985e+02, Convergence rate: 1.413e-02\n",
      "Iteration: 23, Loss: 5.900e+02, Convergence rate: 1.407e-02\n",
      "Iteration: 24, Loss: 5.818e+02, Convergence rate: 1.400e-02\n",
      "Iteration: 25, Loss: 5.737e+02, Convergence rate: 1.394e-02\n",
      "Iteration: 26, Loss: 5.657e+02, Convergence rate: 1.386e-02\n",
      "Iteration: 27, Loss: 5.579e+02, Convergence rate: 1.380e-02\n",
      "Iteration: 28, Loss: 5.503e+02, Convergence rate: 1.374e-02\n",
      "Iteration: 29, Loss: 5.427e+02, Convergence rate: 1.366e-02\n",
      "Iteration: 30, Loss: 5.354e+02, Convergence rate: 1.358e-02\n",
      "Iteration: 31, Loss: 5.281e+02, Convergence rate: 1.352e-02\n",
      "Iteration: 32, Loss: 5.210e+02, Convergence rate: 1.345e-02\n",
      "Iteration: 33, Loss: 5.141e+02, Convergence rate: 1.336e-02\n",
      "Iteration: 34, Loss: 5.072e+02, Convergence rate: 1.328e-02\n",
      "Iteration: 35, Loss: 5.005e+02, Convergence rate: 1.324e-02\n",
      "Iteration: 36, Loss: 4.940e+02, Convergence rate: 1.313e-02\n",
      "Iteration: 37, Loss: 4.875e+02, Convergence rate: 1.307e-02\n",
      "Iteration: 38, Loss: 4.812e+02, Convergence rate: 1.297e-02\n",
      "Iteration: 39, Loss: 4.750e+02, Convergence rate: 1.292e-02\n",
      "Iteration: 40, Loss: 4.689e+02, Convergence rate: 1.284e-02\n",
      "Iteration: 41, Loss: 4.629e+02, Convergence rate: 1.274e-02\n",
      "Iteration: 42, Loss: 4.570e+02, Convergence rate: 1.267e-02\n",
      "Iteration: 43, Loss: 4.513e+02, Convergence rate: 1.259e-02\n",
      "Iteration: 44, Loss: 4.456e+02, Convergence rate: 1.251e-02\n",
      "Iteration: 45, Loss: 4.401e+02, Convergence rate: 1.242e-02\n",
      "Iteration: 46, Loss: 4.347e+02, Convergence rate: 1.234e-02\n",
      "Iteration: 47, Loss: 4.293e+02, Convergence rate: 1.227e-02\n",
      "Iteration: 48, Loss: 4.241e+02, Convergence rate: 1.218e-02\n",
      "Iteration: 49, Loss: 4.190e+02, Convergence rate: 1.211e-02\n",
      "Iteration: 50, Loss: 4.139e+02, Convergence rate: 1.200e-02\n",
      "Iteration: 51, Loss: 4.090e+02, Convergence rate: 1.192e-02\n",
      "Iteration: 52, Loss: 4.041e+02, Convergence rate: 1.187e-02\n",
      "Iteration: 53, Loss: 3.994e+02, Convergence rate: 1.174e-02\n",
      "Iteration: 54, Loss: 3.947e+02, Convergence rate: 1.166e-02\n",
      "Iteration: 55, Loss: 3.901e+02, Convergence rate: 1.163e-02\n",
      "Iteration: 56, Loss: 3.857e+02, Convergence rate: 1.149e-02\n",
      "Iteration: 57, Loss: 3.813e+02, Convergence rate: 1.141e-02\n",
      "Iteration: 58, Loss: 3.770e+02, Convergence rate: 1.131e-02\n",
      "Iteration: 59, Loss: 3.727e+02, Convergence rate: 1.127e-02\n",
      "Iteration: 60, Loss: 3.686e+02, Convergence rate: 1.113e-02\n",
      "Iteration: 61, Loss: 3.645e+02, Convergence rate: 1.108e-02\n",
      "Iteration: 62, Loss: 3.605e+02, Convergence rate: 1.101e-02\n",
      "Iteration: 63, Loss: 3.565e+02, Convergence rate: 1.087e-02\n",
      "Iteration: 64, Loss: 3.527e+02, Convergence rate: 1.083e-02\n",
      "Iteration: 65, Loss: 3.489e+02, Convergence rate: 1.071e-02\n",
      "Iteration: 66, Loss: 3.452e+02, Convergence rate: 1.066e-02\n",
      "Iteration: 67, Loss: 3.416e+02, Convergence rate: 1.052e-02\n",
      "Iteration: 68, Loss: 3.380e+02, Convergence rate: 1.047e-02\n",
      "Iteration: 69, Loss: 3.345e+02, Convergence rate: 1.035e-02\n",
      "Iteration: 70, Loss: 3.310e+02, Convergence rate: 1.030e-02\n",
      "Iteration: 71, Loss: 3.277e+02, Convergence rate: 1.017e-02\n",
      "Iteration: 72, Loss: 3.243e+02, Convergence rate: 1.012e-02\n",
      "Iteration: 73, Loss: 3.211e+02, Convergence rate: 1.000e-02\n",
      "Iteration: 74, Loss: 3.179e+02, Convergence rate: 9.933e-03\n",
      "Step size set to 2.000e-02\n",
      "Iteration: 75, Loss: 3.117e+02, Convergence rate: 1.962e-02\n",
      "Iteration: 76, Loss: 3.057e+02, Convergence rate: 1.925e-02\n",
      "Iteration: 77, Loss: 2.999e+02, Convergence rate: 1.890e-02\n",
      "Iteration: 78, Loss: 2.943e+02, Convergence rate: 1.857e-02\n",
      "Iteration: 79, Loss: 2.890e+02, Convergence rate: 1.817e-02\n",
      "Iteration: 80, Loss: 2.838e+02, Convergence rate: 1.784e-02\n",
      "Iteration: 81, Loss: 2.789e+02, Convergence rate: 1.747e-02\n",
      "Iteration: 82, Loss: 2.741e+02, Convergence rate: 1.716e-02\n",
      "Iteration: 83, Loss: 2.695e+02, Convergence rate: 1.676e-02\n",
      "Iteration: 84, Loss: 2.651e+02, Convergence rate: 1.645e-02\n",
      "Iteration: 85, Loss: 2.608e+02, Convergence rate: 1.607e-02\n",
      "Iteration: 86, Loss: 2.567e+02, Convergence rate: 1.574e-02\n",
      "Iteration: 87, Loss: 2.527e+02, Convergence rate: 1.541e-02\n",
      "Iteration: 88, Loss: 2.489e+02, Convergence rate: 1.506e-02\n",
      "Iteration: 89, Loss: 2.453e+02, Convergence rate: 1.472e-02\n",
      "Iteration: 90, Loss: 2.417e+02, Convergence rate: 1.441e-02\n",
      "Iteration: 91, Loss: 2.383e+02, Convergence rate: 1.406e-02\n",
      "Iteration: 92, Loss: 2.351e+02, Convergence rate: 1.372e-02\n",
      "Iteration: 93, Loss: 2.319e+02, Convergence rate: 1.341e-02\n",
      "Iteration: 94, Loss: 2.289e+02, Convergence rate: 1.308e-02\n",
      "Iteration: 95, Loss: 2.260e+02, Convergence rate: 1.278e-02\n",
      "Iteration: 96, Loss: 2.231e+02, Convergence rate: 1.245e-02\n",
      "Iteration: 97, Loss: 2.204e+02, Convergence rate: 1.213e-02\n",
      "Iteration: 98, Loss: 2.178e+02, Convergence rate: 1.188e-02\n",
      "Iteration: 99, Loss: 2.153e+02, Convergence rate: 1.157e-02\n",
      "Iteration: 100, Loss: 2.129e+02, Convergence rate: 1.122e-02\n"
     ]
    },
    {
     "name": "stderr",
     "output_type": "stream",
     "text": [
      "  4%|███                                                                               | 4/105 [00:00<00:04, 24.93it/s]"
     ]
    },
    {
     "name": "stdout",
     "output_type": "stream",
     "text": [
      "Iteration: 101, Loss: 2.105e+02, Convergence rate: 1.096e-02\n",
      "Evidence 22330.702\n",
      "Updating precision...\n"
     ]
    },
    {
     "name": "stderr",
     "output_type": "stream",
     "text": [
      "100%|████████████████████████████████████████████████████████████████████████████████| 105/105 [00:01<00:00, 56.43it/s]\n"
     ]
    },
    {
     "name": "stdout",
     "output_type": "stream",
     "text": [
      "Total samples: 1653, Updated regularization: 1.00e-01\n",
      "Iteration: 0, Loss: 6.911e+02, Convergence rate: inf\n",
      "Iteration: 1, Loss: 6.876e+02, Convergence rate: 5.107e-03\n",
      "Step size set to 2.000e-02\n",
      "Iteration: 2, Loss: 6.807e+02, Convergence rate: 1.004e-02\n"
     ]
    },
    {
     "name": "stderr",
     "output_type": "stream",
     "text": [
      "\r",
      "  0%|                                                                                          | 0/105 [00:00<?, ?it/s]"
     ]
    },
    {
     "name": "stdout",
     "output_type": "stream",
     "text": [
      "Iteration: 3, Loss: 6.741e+02, Convergence rate: 9.730e-03\n",
      "Step size set to 4.000e-02\n",
      "Evidence 31615.864\n",
      "Updating precision...\n"
     ]
    },
    {
     "name": "stderr",
     "output_type": "stream",
     "text": [
      "100%|████████████████████████████████████████████████████████████████████████████████| 105/105 [00:01<00:00, 53.97it/s]\n"
     ]
    },
    {
     "name": "stdout",
     "output_type": "stream",
     "text": [
      "Total samples: 1653, Updated regularization: 1.48e-01\n",
      "Iteration: 0, Loss: 8.113e+02, Convergence rate: inf\n",
      "Iteration: 1, Loss: 8.076e+02, Convergence rate: 4.549e-03\n",
      "Step size set to 2.000e-02\n"
     ]
    },
    {
     "name": "stderr",
     "output_type": "stream",
     "text": [
      " 10%|████████▍                                                                       | 11/105 [00:00<00:00, 109.69it/s]"
     ]
    },
    {
     "name": "stdout",
     "output_type": "stream",
     "text": [
      "Iteration: 2, Loss: 8.004e+02, Convergence rate: 8.930e-03\n",
      "Step size set to 4.000e-02\n",
      "Evidence 32907.409\n",
      "Updating precision...\n"
     ]
    },
    {
     "name": "stderr",
     "output_type": "stream",
     "text": [
      "100%|████████████████████████████████████████████████████████████████████████████████| 105/105 [00:01<00:00, 73.80it/s]\n"
     ]
    },
    {
     "name": "stdout",
     "output_type": "stream",
     "text": [
      "Total samples: 1653, Updated regularization: 1.55e-01\n",
      "Iteration: 0, Loss: 8.244e+02, Convergence rate: inf\n",
      "Iteration: 1, Loss: 8.208e+02, Convergence rate: 4.309e-03\n",
      "Step size set to 2.000e-02\n",
      "Iteration: 2, Loss: 8.138e+02, Convergence rate: 8.504e-03\n",
      "Step size set to 4.000e-02\n",
      "Evidence 33118.963\n",
      "Elapsed time: 190.564\n"
     ]
    },
    {
     "name": "stderr",
     "output_type": "stream",
     "text": [
      " 38%|██████████████████████████████▍                                                 | 40/105 [00:00<00:00, 199.32it/s]"
     ]
    },
    {
     "name": "stdout",
     "output_type": "stream",
     "text": [
      "Training fold 3/11\n",
      "\n",
      "Running gradient descent...\n",
      "Updating precision...\n"
     ]
    },
    {
     "name": "stderr",
     "output_type": "stream",
     "text": [
      "100%|███████████████████████████████████████████████████████████████████████████████| 105/105 [00:00<00:00, 209.35it/s]\n"
     ]
    },
    {
     "name": "stdout",
     "output_type": "stream",
     "text": [
      "Iteration: 0, Loss: 8.175e+02, Convergence rate: inf\n",
      "Iteration: 1, Loss: 8.057e+02, Convergence rate: 1.440e-02\n",
      "Iteration: 2, Loss: 7.941e+02, Convergence rate: 1.442e-02\n",
      "Iteration: 3, Loss: 7.827e+02, Convergence rate: 1.441e-02\n",
      "Iteration: 4, Loss: 7.714e+02, Convergence rate: 1.440e-02\n",
      "Iteration: 5, Loss: 7.603e+02, Convergence rate: 1.439e-02\n",
      "Iteration: 6, Loss: 7.494e+02, Convergence rate: 1.436e-02\n",
      "Iteration: 7, Loss: 7.386e+02, Convergence rate: 1.436e-02\n",
      "Iteration: 8, Loss: 7.280e+02, Convergence rate: 1.433e-02\n",
      "Iteration: 9, Loss: 7.176e+02, Convergence rate: 1.427e-02\n",
      "Iteration: 10, Loss: 7.074e+02, Convergence rate: 1.425e-02\n",
      "Iteration: 11, Loss: 6.973e+02, Convergence rate: 1.422e-02\n",
      "Iteration: 12, Loss: 6.875e+02, Convergence rate: 1.417e-02\n",
      "Iteration: 13, Loss: 6.778e+02, Convergence rate: 1.413e-02\n",
      "Iteration: 14, Loss: 6.682e+02, Convergence rate: 1.408e-02\n",
      "Iteration: 15, Loss: 6.588e+02, Convergence rate: 1.403e-02\n",
      "Iteration: 16, Loss: 6.496e+02, Convergence rate: 1.395e-02\n",
      "Iteration: 17, Loss: 6.406e+02, Convergence rate: 1.392e-02\n",
      "Iteration: 18, Loss: 6.317e+02, Convergence rate: 1.387e-02\n",
      "Iteration: 19, Loss: 6.230e+02, Convergence rate: 1.380e-02\n",
      "Iteration: 20, Loss: 6.144e+02, Convergence rate: 1.374e-02\n",
      "Iteration: 21, Loss: 6.060e+02, Convergence rate: 1.368e-02\n",
      "Iteration: 22, Loss: 5.978e+02, Convergence rate: 1.361e-02\n",
      "Iteration: 23, Loss: 5.897e+02, Convergence rate: 1.358e-02\n",
      "Iteration: 24, Loss: 5.817e+02, Convergence rate: 1.350e-02\n",
      "Iteration: 25, Loss: 5.739e+02, Convergence rate: 1.343e-02\n",
      "Iteration: 26, Loss: 5.662e+02, Convergence rate: 1.336e-02\n",
      "Iteration: 27, Loss: 5.587e+02, Convergence rate: 1.330e-02\n",
      "Iteration: 28, Loss: 5.513e+02, Convergence rate: 1.325e-02\n",
      "Iteration: 29, Loss: 5.440e+02, Convergence rate: 1.318e-02\n",
      "Iteration: 30, Loss: 5.369e+02, Convergence rate: 1.309e-02\n",
      "Iteration: 31, Loss: 5.299e+02, Convergence rate: 1.303e-02\n",
      "Iteration: 32, Loss: 5.230e+02, Convergence rate: 1.297e-02\n",
      "Iteration: 33, Loss: 5.163e+02, Convergence rate: 1.289e-02\n",
      "Iteration: 34, Loss: 5.097e+02, Convergence rate: 1.283e-02\n",
      "Iteration: 35, Loss: 5.032e+02, Convergence rate: 1.275e-02\n",
      "Iteration: 36, Loss: 4.968e+02, Convergence rate: 1.270e-02\n",
      "Iteration: 37, Loss: 4.905e+02, Convergence rate: 1.261e-02\n",
      "Iteration: 38, Loss: 4.844e+02, Convergence rate: 1.253e-02\n",
      "Iteration: 39, Loss: 4.783e+02, Convergence rate: 1.244e-02\n",
      "Iteration: 40, Loss: 4.724e+02, Convergence rate: 1.239e-02\n",
      "Iteration: 41, Loss: 4.666e+02, Convergence rate: 1.230e-02\n",
      "Iteration: 42, Loss: 4.609e+02, Convergence rate: 1.224e-02\n",
      "Iteration: 43, Loss: 4.553e+02, Convergence rate: 1.217e-02\n",
      "Iteration: 44, Loss: 4.498e+02, Convergence rate: 1.207e-02\n",
      "Iteration: 45, Loss: 4.444e+02, Convergence rate: 1.202e-02\n",
      "Iteration: 46, Loss: 4.391e+02, Convergence rate: 1.192e-02\n",
      "Iteration: 47, Loss: 4.339e+02, Convergence rate: 1.186e-02\n",
      "Iteration: 48, Loss: 4.288e+02, Convergence rate: 1.178e-02\n",
      "Iteration: 49, Loss: 4.238e+02, Convergence rate: 1.169e-02\n",
      "Iteration: 50, Loss: 4.188e+02, Convergence rate: 1.161e-02\n",
      "Iteration: 51, Loss: 4.140e+02, Convergence rate: 1.154e-02\n",
      "Iteration: 52, Loss: 4.093e+02, Convergence rate: 1.144e-02\n",
      "Iteration: 53, Loss: 4.046e+02, Convergence rate: 1.137e-02\n",
      "Iteration: 54, Loss: 4.000e+02, Convergence rate: 1.130e-02\n",
      "Iteration: 55, Loss: 3.956e+02, Convergence rate: 1.120e-02\n",
      "Iteration: 56, Loss: 3.911e+02, Convergence rate: 1.115e-02\n",
      "Iteration: 57, Loss: 3.868e+02, Convergence rate: 1.104e-02\n",
      "Iteration: 58, Loss: 3.826e+02, Convergence rate: 1.096e-02\n",
      "Iteration: 59, Loss: 3.784e+02, Convergence rate: 1.089e-02\n",
      "Iteration: 60, Loss: 3.743e+02, Convergence rate: 1.079e-02\n",
      "Iteration: 61, Loss: 3.703e+02, Convergence rate: 1.072e-02\n",
      "Iteration: 62, Loss: 3.664e+02, Convergence rate: 1.061e-02\n",
      "Iteration: 63, Loss: 3.625e+02, Convergence rate: 1.056e-02\n",
      "Iteration: 64, Loss: 3.587e+02, Convergence rate: 1.046e-02\n",
      "Iteration: 65, Loss: 3.550e+02, Convergence rate: 1.037e-02\n",
      "Iteration: 66, Loss: 3.514e+02, Convergence rate: 1.026e-02\n",
      "Iteration: 67, Loss: 3.478e+02, Convergence rate: 1.021e-02\n",
      "Iteration: 68, Loss: 3.443e+02, Convergence rate: 1.014e-02\n",
      "Iteration: 69, Loss: 3.408e+02, Convergence rate: 1.003e-02\n",
      "Iteration: 70, Loss: 3.374e+02, Convergence rate: 9.918e-03\n",
      "Step size set to 2.000e-02\n",
      "Iteration: 71, Loss: 3.308e+02, Convergence rate: 1.969e-02\n",
      "Iteration: 72, Loss: 3.244e+02, Convergence rate: 1.932e-02\n",
      "Iteration: 73, Loss: 3.182e+02, Convergence rate: 1.895e-02\n",
      "Iteration: 74, Loss: 3.123e+02, Convergence rate: 1.860e-02\n",
      "Iteration: 75, Loss: 3.066e+02, Convergence rate: 1.826e-02\n",
      "Iteration: 76, Loss: 3.011e+02, Convergence rate: 1.791e-02\n",
      "Iteration: 77, Loss: 2.958e+02, Convergence rate: 1.758e-02\n",
      "Iteration: 78, Loss: 2.908e+02, Convergence rate: 1.718e-02\n",
      "Iteration: 79, Loss: 2.858e+02, Convergence rate: 1.687e-02\n",
      "Iteration: 80, Loss: 2.811e+02, Convergence rate: 1.650e-02\n",
      "Iteration: 81, Loss: 2.766e+02, Convergence rate: 1.615e-02\n",
      "Iteration: 82, Loss: 2.722e+02, Convergence rate: 1.581e-02\n",
      "Iteration: 83, Loss: 2.680e+02, Convergence rate: 1.547e-02\n",
      "Iteration: 84, Loss: 2.640e+02, Convergence rate: 1.511e-02\n",
      "Iteration: 85, Loss: 2.600e+02, Convergence rate: 1.481e-02\n",
      "Iteration: 86, Loss: 2.563e+02, Convergence rate: 1.442e-02\n",
      "Iteration: 87, Loss: 2.527e+02, Convergence rate: 1.408e-02\n",
      "Iteration: 88, Loss: 2.492e+02, Convergence rate: 1.380e-02\n",
      "Iteration: 89, Loss: 2.458e+02, Convergence rate: 1.347e-02\n",
      "Iteration: 90, Loss: 2.426e+02, Convergence rate: 1.309e-02\n",
      "Iteration: 91, Loss: 2.395e+02, Convergence rate: 1.280e-02\n",
      "Iteration: 92, Loss: 2.365e+02, Convergence rate: 1.248e-02\n",
      "Iteration: 93, Loss: 2.336e+02, Convergence rate: 1.222e-02\n",
      "Iteration: 94, Loss: 2.309e+02, Convergence rate: 1.183e-02\n",
      "Iteration: 95, Loss: 2.282e+02, Convergence rate: 1.157e-02\n",
      "Iteration: 96, Loss: 2.256e+02, Convergence rate: 1.125e-02\n",
      "Iteration: 97, Loss: 2.232e+02, Convergence rate: 1.100e-02\n",
      "Iteration: 98, Loss: 2.208e+02, Convergence rate: 1.066e-02\n",
      "Iteration: 99, Loss: 2.185e+02, Convergence rate: 1.035e-02\n",
      "Iteration: 100, Loss: 2.163e+02, Convergence rate: 1.014e-02\n"
     ]
    },
    {
     "name": "stderr",
     "output_type": "stream",
     "text": [
      "\r",
      "  0%|                                                                                          | 0/105 [00:00<?, ?it/s]"
     ]
    },
    {
     "name": "stdout",
     "output_type": "stream",
     "text": [
      "Iteration: 101, Loss: 2.142e+02, Convergence rate: 9.819e-03\n",
      "Step size set to 4.000e-02\n",
      "Evidence 21619.919\n",
      "Updating precision...\n"
     ]
    },
    {
     "name": "stderr",
     "output_type": "stream",
     "text": [
      "100%|████████████████████████████████████████████████████████████████████████████████| 105/105 [00:01<00:00, 54.39it/s]\n"
     ]
    },
    {
     "name": "stdout",
     "output_type": "stream",
     "text": [
      "Total samples: 1635, Updated regularization: 1.04e-01\n",
      "Iteration: 0, Loss: 6.862e+02, Convergence rate: inf\n",
      "Iteration: 1, Loss: 6.831e+02, Convergence rate: 4.551e-03\n",
      "Step size set to 2.000e-02\n"
     ]
    },
    {
     "name": "stderr",
     "output_type": "stream",
     "text": [
      " 10%|████████▍                                                                       | 11/105 [00:00<00:00, 107.58it/s]"
     ]
    },
    {
     "name": "stdout",
     "output_type": "stream",
     "text": [
      "Iteration: 2, Loss: 6.770e+02, Convergence rate: 9.025e-03\n",
      "Step size set to 4.000e-02\n",
      "Evidence 30609.610\n",
      "Updating precision...\n"
     ]
    },
    {
     "name": "stderr",
     "output_type": "stream",
     "text": [
      "100%|████████████████████████████████████████████████████████████████████████████████| 105/105 [00:01<00:00, 61.72it/s]\n"
     ]
    },
    {
     "name": "stdout",
     "output_type": "stream",
     "text": [
      "Total samples: 1635, Updated regularization: 1.60e-01\n",
      "Iteration: 0, Loss: 8.025e+02, Convergence rate: inf\n",
      "Iteration: 1, Loss: 7.991e+02, Convergence rate: 4.174e-03\n",
      "Step size set to 2.000e-02\n"
     ]
    },
    {
     "name": "stderr",
     "output_type": "stream",
     "text": [
      " 10%|████████▍                                                                        | 11/105 [00:00<00:00, 99.74it/s]"
     ]
    },
    {
     "name": "stdout",
     "output_type": "stream",
     "text": [
      "Iteration: 2, Loss: 7.926e+02, Convergence rate: 8.119e-03\n",
      "Step size set to 4.000e-02\n",
      "Evidence 31764.358\n",
      "Updating precision...\n"
     ]
    },
    {
     "name": "stderr",
     "output_type": "stream",
     "text": [
      "100%|████████████████████████████████████████████████████████████████████████████████| 105/105 [00:01<00:00, 53.30it/s]\n"
     ]
    },
    {
     "name": "stdout",
     "output_type": "stream",
     "text": [
      "Total samples: 1635, Updated regularization: 1.70e-01\n",
      "Iteration: 0, Loss: 8.153e+02, Convergence rate: inf\n",
      "Iteration: 1, Loss: 8.120e+02, Convergence rate: 4.017e-03\n",
      "Step size set to 2.000e-02\n",
      "Iteration: 2, Loss: 8.057e+02, Convergence rate: 7.729e-03\n",
      "Step size set to 4.000e-02\n",
      "Evidence 31958.942\n",
      "Elapsed time: 277.022\n"
     ]
    },
    {
     "name": "stderr",
     "output_type": "stream",
     "text": [
      " 23%|██████████████████▎                                                             | 24/105 [00:00<00:00, 207.66it/s]"
     ]
    },
    {
     "name": "stdout",
     "output_type": "stream",
     "text": [
      "Training fold 4/11\n",
      "\n",
      "Running gradient descent...\n",
      "Updating precision...\n"
     ]
    },
    {
     "name": "stderr",
     "output_type": "stream",
     "text": [
      "100%|███████████████████████████████████████████████████████████████████████████████| 105/105 [00:00<00:00, 211.36it/s]\n"
     ]
    },
    {
     "name": "stdout",
     "output_type": "stream",
     "text": [
      "Iteration: 0, Loss: 8.295e+02, Convergence rate: inf\n",
      "Iteration: 1, Loss: 8.174e+02, Convergence rate: 1.463e-02\n",
      "Iteration: 2, Loss: 8.054e+02, Convergence rate: 1.463e-02\n",
      "Iteration: 3, Loss: 7.936e+02, Convergence rate: 1.464e-02\n",
      "Iteration: 4, Loss: 7.820e+02, Convergence rate: 1.463e-02\n",
      "Iteration: 5, Loss: 7.706e+02, Convergence rate: 1.462e-02\n",
      "Iteration: 6, Loss: 7.593e+02, Convergence rate: 1.461e-02\n",
      "Iteration: 7, Loss: 7.482e+02, Convergence rate: 1.459e-02\n",
      "Iteration: 8, Loss: 7.373e+02, Convergence rate: 1.457e-02\n",
      "Iteration: 9, Loss: 7.266e+02, Convergence rate: 1.454e-02\n",
      "Iteration: 10, Loss: 7.161e+02, Convergence rate: 1.451e-02\n",
      "Iteration: 11, Loss: 7.057e+02, Convergence rate: 1.449e-02\n",
      "Iteration: 12, Loss: 6.955e+02, Convergence rate: 1.445e-02\n",
      "Iteration: 13, Loss: 6.855e+02, Convergence rate: 1.442e-02\n",
      "Iteration: 14, Loss: 6.756e+02, Convergence rate: 1.438e-02\n",
      "Iteration: 15, Loss: 6.659e+02, Convergence rate: 1.433e-02\n",
      "Iteration: 16, Loss: 6.564e+02, Convergence rate: 1.430e-02\n",
      "Iteration: 17, Loss: 6.470e+02, Convergence rate: 1.425e-02\n",
      "Iteration: 18, Loss: 6.379e+02, Convergence rate: 1.420e-02\n",
      "Iteration: 19, Loss: 6.288e+02, Convergence rate: 1.416e-02\n",
      "Iteration: 20, Loss: 6.200e+02, Convergence rate: 1.411e-02\n",
      "Iteration: 21, Loss: 6.112e+02, Convergence rate: 1.406e-02\n",
      "Iteration: 22, Loss: 6.027e+02, Convergence rate: 1.401e-02\n",
      "Iteration: 23, Loss: 5.943e+02, Convergence rate: 1.392e-02\n",
      "Iteration: 24, Loss: 5.860e+02, Convergence rate: 1.390e-02\n",
      "Iteration: 25, Loss: 5.779e+02, Convergence rate: 1.383e-02\n",
      "Iteration: 26, Loss: 5.700e+02, Convergence rate: 1.378e-02\n",
      "Iteration: 27, Loss: 5.621e+02, Convergence rate: 1.371e-02\n",
      "Iteration: 28, Loss: 5.545e+02, Convergence rate: 1.366e-02\n",
      "Iteration: 29, Loss: 5.469e+02, Convergence rate: 1.358e-02\n",
      "Iteration: 30, Loss: 5.395e+02, Convergence rate: 1.352e-02\n",
      "Iteration: 31, Loss: 5.323e+02, Convergence rate: 1.346e-02\n",
      "Iteration: 32, Loss: 5.251e+02, Convergence rate: 1.341e-02\n",
      "Iteration: 33, Loss: 5.181e+02, Convergence rate: 1.333e-02\n",
      "Iteration: 34, Loss: 5.113e+02, Convergence rate: 1.324e-02\n",
      "Iteration: 35, Loss: 5.045e+02, Convergence rate: 1.319e-02\n",
      "Iteration: 36, Loss: 4.979e+02, Convergence rate: 1.312e-02\n",
      "Iteration: 37, Loss: 4.914e+02, Convergence rate: 1.305e-02\n",
      "Iteration: 38, Loss: 4.850e+02, Convergence rate: 1.298e-02\n",
      "Iteration: 39, Loss: 4.788e+02, Convergence rate: 1.291e-02\n",
      "Iteration: 40, Loss: 4.726e+02, Convergence rate: 1.282e-02\n",
      "Iteration: 41, Loss: 4.666e+02, Convergence rate: 1.276e-02\n",
      "Iteration: 42, Loss: 4.607e+02, Convergence rate: 1.270e-02\n",
      "Iteration: 43, Loss: 4.549e+02, Convergence rate: 1.260e-02\n",
      "Iteration: 44, Loss: 4.492e+02, Convergence rate: 1.251e-02\n",
      "Iteration: 45, Loss: 4.436e+02, Convergence rate: 1.247e-02\n",
      "Iteration: 46, Loss: 4.381e+02, Convergence rate: 1.236e-02\n",
      "Iteration: 47, Loss: 4.327e+02, Convergence rate: 1.229e-02\n",
      "Iteration: 48, Loss: 4.274e+02, Convergence rate: 1.222e-02\n",
      "Iteration: 49, Loss: 4.222e+02, Convergence rate: 1.212e-02\n",
      "Iteration: 50, Loss: 4.172e+02, Convergence rate: 1.206e-02\n",
      "Iteration: 51, Loss: 4.122e+02, Convergence rate: 1.198e-02\n",
      "Iteration: 52, Loss: 4.073e+02, Convergence rate: 1.187e-02\n",
      "Iteration: 53, Loss: 4.024e+02, Convergence rate: 1.183e-02\n",
      "Iteration: 54, Loss: 3.977e+02, Convergence rate: 1.170e-02\n",
      "Iteration: 55, Loss: 3.931e+02, Convergence rate: 1.163e-02\n",
      "Iteration: 56, Loss: 3.886e+02, Convergence rate: 1.157e-02\n",
      "Iteration: 57, Loss: 3.841e+02, Convergence rate: 1.148e-02\n",
      "Iteration: 58, Loss: 3.797e+02, Convergence rate: 1.136e-02\n",
      "Iteration: 59, Loss: 3.754e+02, Convergence rate: 1.131e-02\n",
      "Iteration: 60, Loss: 3.712e+02, Convergence rate: 1.120e-02\n",
      "Iteration: 61, Loss: 3.671e+02, Convergence rate: 1.111e-02\n",
      "Iteration: 62, Loss: 3.631e+02, Convergence rate: 1.104e-02\n",
      "Iteration: 63, Loss: 3.591e+02, Convergence rate: 1.093e-02\n",
      "Iteration: 64, Loss: 3.552e+02, Convergence rate: 1.087e-02\n",
      "Iteration: 65, Loss: 3.514e+02, Convergence rate: 1.079e-02\n",
      "Iteration: 66, Loss: 3.476e+02, Convergence rate: 1.066e-02\n",
      "Iteration: 67, Loss: 3.439e+02, Convergence rate: 1.060e-02\n",
      "Iteration: 68, Loss: 3.403e+02, Convergence rate: 1.046e-02\n",
      "Iteration: 69, Loss: 3.368e+02, Convergence rate: 1.046e-02\n",
      "Iteration: 70, Loss: 3.333e+02, Convergence rate: 1.028e-02\n",
      "Iteration: 71, Loss: 3.299e+02, Convergence rate: 1.024e-02\n",
      "Iteration: 72, Loss: 3.265e+02, Convergence rate: 1.014e-02\n",
      "Iteration: 73, Loss: 3.233e+02, Convergence rate: 1.003e-02\n",
      "Iteration: 74, Loss: 3.200e+02, Convergence rate: 9.969e-03\n",
      "Step size set to 2.000e-02\n",
      "Iteration: 75, Loss: 3.138e+02, Convergence rate: 1.966e-02\n",
      "Iteration: 76, Loss: 3.077e+02, Convergence rate: 1.930e-02\n",
      "Iteration: 77, Loss: 3.019e+02, Convergence rate: 1.896e-02\n",
      "Iteration: 78, Loss: 2.963e+02, Convergence rate: 1.854e-02\n",
      "Iteration: 79, Loss: 2.909e+02, Convergence rate: 1.821e-02\n",
      "Iteration: 80, Loss: 2.857e+02, Convergence rate: 1.776e-02\n",
      "Iteration: 81, Loss: 2.807e+02, Convergence rate: 1.747e-02\n",
      "Iteration: 82, Loss: 2.759e+02, Convergence rate: 1.706e-02\n",
      "Iteration: 83, Loss: 2.713e+02, Convergence rate: 1.671e-02\n",
      "Iteration: 84, Loss: 2.669e+02, Convergence rate: 1.634e-02\n",
      "Iteration: 85, Loss: 2.626e+02, Convergence rate: 1.597e-02\n",
      "Iteration: 86, Loss: 2.585e+02, Convergence rate: 1.556e-02\n",
      "Iteration: 87, Loss: 2.546e+02, Convergence rate: 1.524e-02\n",
      "Iteration: 88, Loss: 2.508e+02, Convergence rate: 1.490e-02\n",
      "Iteration: 89, Loss: 2.472e+02, Convergence rate: 1.445e-02\n",
      "Iteration: 90, Loss: 2.437e+02, Convergence rate: 1.419e-02\n",
      "Iteration: 91, Loss: 2.403e+02, Convergence rate: 1.381e-02\n",
      "Iteration: 92, Loss: 2.371e+02, Convergence rate: 1.347e-02\n",
      "Iteration: 93, Loss: 2.340e+02, Convergence rate: 1.313e-02\n",
      "Iteration: 94, Loss: 2.310e+02, Convergence rate: 1.276e-02\n",
      "Iteration: 95, Loss: 2.281e+02, Convergence rate: 1.246e-02\n",
      "Iteration: 96, Loss: 2.253e+02, Convergence rate: 1.213e-02\n",
      "Iteration: 97, Loss: 2.227e+02, Convergence rate: 1.181e-02\n",
      "Iteration: 98, Loss: 2.201e+02, Convergence rate: 1.147e-02\n",
      "Iteration: 99, Loss: 2.177e+02, Convergence rate: 1.114e-02\n",
      "Iteration: 100, Loss: 2.153e+02, Convergence rate: 1.087e-02\n"
     ]
    },
    {
     "name": "stderr",
     "output_type": "stream",
     "text": [
      " 10%|████████▍                                                                       | 11/105 [00:00<00:00, 107.58it/s]"
     ]
    },
    {
     "name": "stdout",
     "output_type": "stream",
     "text": [
      "Iteration: 101, Loss: 2.130e+02, Convergence rate: 1.053e-02\n",
      "Evidence 21987.651\n",
      "Updating precision...\n"
     ]
    },
    {
     "name": "stderr",
     "output_type": "stream",
     "text": [
      "100%|████████████████████████████████████████████████████████████████████████████████| 105/105 [00:01<00:00, 64.24it/s]\n"
     ]
    },
    {
     "name": "stdout",
     "output_type": "stream",
     "text": [
      "Total samples: 1659, Updated regularization: 1.06e-01\n",
      "Iteration: 0, Loss: 6.949e+02, Convergence rate: inf\n",
      "Iteration: 1, Loss: 6.915e+02, Convergence rate: 4.952e-03\n",
      "Step size set to 2.000e-02\n"
     ]
    },
    {
     "name": "stderr",
     "output_type": "stream",
     "text": [
      " 10%|████████▍                                                                       | 11/105 [00:00<00:00, 101.61it/s]"
     ]
    },
    {
     "name": "stdout",
     "output_type": "stream",
     "text": [
      "Iteration: 2, Loss: 6.848e+02, Convergence rate: 9.695e-03\n",
      "Step size set to 4.000e-02\n",
      "Evidence 31251.115\n",
      "Updating precision...\n"
     ]
    },
    {
     "name": "stderr",
     "output_type": "stream",
     "text": [
      "100%|████████████████████████████████████████████████████████████████████████████████| 105/105 [00:01<00:00, 57.30it/s]\n"
     ]
    },
    {
     "name": "stdout",
     "output_type": "stream",
     "text": [
      "Total samples: 1659, Updated regularization: 1.61e-01\n",
      "Iteration: 0, Loss: 8.145e+02, Convergence rate: inf\n",
      "Iteration: 1, Loss: 8.109e+02, Convergence rate: 4.447e-03\n",
      "Step size set to 2.000e-02\n"
     ]
    },
    {
     "name": "stderr",
     "output_type": "stream",
     "text": [
      "\r",
      "  0%|                                                                                          | 0/105 [00:00<?, ?it/s]"
     ]
    },
    {
     "name": "stdout",
     "output_type": "stream",
     "text": [
      "Iteration: 2, Loss: 8.037e+02, Convergence rate: 8.852e-03\n",
      "Step size set to 4.000e-02\n",
      "Evidence 32452.115\n",
      "Updating precision...\n"
     ]
    },
    {
     "name": "stderr",
     "output_type": "stream",
     "text": [
      "100%|████████████████████████████████████████████████████████████████████████████████| 105/105 [00:01<00:00, 59.55it/s]\n"
     ]
    },
    {
     "name": "stdout",
     "output_type": "stream",
     "text": [
      "Total samples: 1659, Updated regularization: 1.70e-01\n",
      "Iteration: 0, Loss: 8.273e+02, Convergence rate: inf\n",
      "Iteration: 1, Loss: 8.238e+02, Convergence rate: 4.221e-03\n",
      "Step size set to 2.000e-02\n",
      "Iteration: 2, Loss: 8.169e+02, Convergence rate: 8.404e-03\n",
      "Step size set to 4.000e-02\n",
      "Evidence 32658.095\n",
      "Elapsed time: 370.125\n"
     ]
    },
    {
     "name": "stderr",
     "output_type": "stream",
     "text": [
      " 20%|████████████████                                                                | 21/105 [00:00<00:00, 209.75it/s]"
     ]
    },
    {
     "name": "stdout",
     "output_type": "stream",
     "text": [
      "Training fold 5/11\n",
      "\n",
      "Running gradient descent...\n",
      "Updating precision...\n"
     ]
    },
    {
     "name": "stderr",
     "output_type": "stream",
     "text": [
      "100%|███████████████████████████████████████████████████████████████████████████████| 105/105 [00:00<00:00, 216.27it/s]\n"
     ]
    },
    {
     "name": "stdout",
     "output_type": "stream",
     "text": [
      "Iteration: 0, Loss: 8.300e+02, Convergence rate: inf\n",
      "Iteration: 1, Loss: 8.182e+02, Convergence rate: 1.416e-02\n",
      "Iteration: 2, Loss: 8.066e+02, Convergence rate: 1.416e-02\n",
      "Iteration: 3, Loss: 7.952e+02, Convergence rate: 1.416e-02\n",
      "Iteration: 4, Loss: 7.840e+02, Convergence rate: 1.416e-02\n",
      "Iteration: 5, Loss: 7.729e+02, Convergence rate: 1.414e-02\n",
      "Iteration: 6, Loss: 7.620e+02, Convergence rate: 1.412e-02\n",
      "Iteration: 7, Loss: 7.512e+02, Convergence rate: 1.410e-02\n",
      "Iteration: 8, Loss: 7.406e+02, Convergence rate: 1.409e-02\n",
      "Iteration: 9, Loss: 7.302e+02, Convergence rate: 1.405e-02\n",
      "Iteration: 10, Loss: 7.200e+02, Convergence rate: 1.403e-02\n",
      "Iteration: 11, Loss: 7.099e+02, Convergence rate: 1.398e-02\n",
      "Iteration: 12, Loss: 7.000e+02, Convergence rate: 1.394e-02\n",
      "Iteration: 13, Loss: 6.903e+02, Convergence rate: 1.391e-02\n",
      "Iteration: 14, Loss: 6.807e+02, Convergence rate: 1.388e-02\n",
      "Iteration: 15, Loss: 6.713e+02, Convergence rate: 1.382e-02\n",
      "Iteration: 16, Loss: 6.621e+02, Convergence rate: 1.378e-02\n",
      "Iteration: 17, Loss: 6.530e+02, Convergence rate: 1.373e-02\n",
      "Iteration: 18, Loss: 6.440e+02, Convergence rate: 1.368e-02\n",
      "Iteration: 19, Loss: 6.353e+02, Convergence rate: 1.363e-02\n",
      "Iteration: 20, Loss: 6.266e+02, Convergence rate: 1.358e-02\n",
      "Iteration: 21, Loss: 6.182e+02, Convergence rate: 1.351e-02\n",
      "Iteration: 22, Loss: 6.098e+02, Convergence rate: 1.346e-02\n",
      "Iteration: 23, Loss: 6.017e+02, Convergence rate: 1.339e-02\n",
      "Iteration: 24, Loss: 5.937e+02, Convergence rate: 1.333e-02\n",
      "Iteration: 25, Loss: 5.858e+02, Convergence rate: 1.327e-02\n",
      "Iteration: 26, Loss: 5.780e+02, Convergence rate: 1.321e-02\n",
      "Iteration: 27, Loss: 5.704e+02, Convergence rate: 1.313e-02\n",
      "Iteration: 28, Loss: 5.630e+02, Convergence rate: 1.306e-02\n",
      "Iteration: 29, Loss: 5.557e+02, Convergence rate: 1.301e-02\n",
      "Iteration: 30, Loss: 5.485e+02, Convergence rate: 1.295e-02\n",
      "Iteration: 31, Loss: 5.414e+02, Convergence rate: 1.286e-02\n",
      "Iteration: 32, Loss: 5.345e+02, Convergence rate: 1.280e-02\n",
      "Iteration: 33, Loss: 5.277e+02, Convergence rate: 1.271e-02\n",
      "Iteration: 34, Loss: 5.210e+02, Convergence rate: 1.265e-02\n",
      "Iteration: 35, Loss: 5.145e+02, Convergence rate: 1.259e-02\n",
      "Iteration: 36, Loss: 5.080e+02, Convergence rate: 1.250e-02\n",
      "Iteration: 37, Loss: 5.017e+02, Convergence rate: 1.241e-02\n",
      "Iteration: 38, Loss: 4.955e+02, Convergence rate: 1.235e-02\n",
      "Iteration: 39, Loss: 4.895e+02, Convergence rate: 1.227e-02\n",
      "Iteration: 40, Loss: 4.835e+02, Convergence rate: 1.220e-02\n",
      "Iteration: 41, Loss: 4.776e+02, Convergence rate: 1.213e-02\n",
      "Iteration: 42, Loss: 4.719e+02, Convergence rate: 1.201e-02\n",
      "Iteration: 43, Loss: 4.662e+02, Convergence rate: 1.197e-02\n",
      "Iteration: 44, Loss: 4.607e+02, Convergence rate: 1.188e-02\n",
      "Iteration: 45, Loss: 4.553e+02, Convergence rate: 1.179e-02\n",
      "Iteration: 46, Loss: 4.499e+02, Convergence rate: 1.169e-02\n",
      "Iteration: 47, Loss: 4.447e+02, Convergence rate: 1.164e-02\n",
      "Iteration: 48, Loss: 4.396e+02, Convergence rate: 1.157e-02\n",
      "Iteration: 49, Loss: 4.345e+02, Convergence rate: 1.145e-02\n",
      "Iteration: 50, Loss: 4.296e+02, Convergence rate: 1.139e-02\n",
      "Iteration: 51, Loss: 4.247e+02, Convergence rate: 1.131e-02\n",
      "Iteration: 52, Loss: 4.200e+02, Convergence rate: 1.118e-02\n",
      "Iteration: 53, Loss: 4.153e+02, Convergence rate: 1.113e-02\n",
      "Iteration: 54, Loss: 4.107e+02, Convergence rate: 1.105e-02\n",
      "Iteration: 55, Loss: 4.062e+02, Convergence rate: 1.097e-02\n",
      "Iteration: 56, Loss: 4.018e+02, Convergence rate: 1.089e-02\n",
      "Iteration: 57, Loss: 3.974e+02, Convergence rate: 1.079e-02\n",
      "Iteration: 58, Loss: 3.932e+02, Convergence rate: 1.070e-02\n",
      "Iteration: 59, Loss: 3.890e+02, Convergence rate: 1.063e-02\n",
      "Iteration: 60, Loss: 3.849e+02, Convergence rate: 1.052e-02\n",
      "Iteration: 61, Loss: 3.809e+02, Convergence rate: 1.045e-02\n",
      "Iteration: 62, Loss: 3.770e+02, Convergence rate: 1.034e-02\n",
      "Iteration: 63, Loss: 3.731e+02, Convergence rate: 1.027e-02\n",
      "Iteration: 64, Loss: 3.693e+02, Convergence rate: 1.018e-02\n",
      "Iteration: 65, Loss: 3.656e+02, Convergence rate: 1.010e-02\n",
      "Iteration: 66, Loss: 3.619e+02, Convergence rate: 9.993e-03\n",
      "Step size set to 2.000e-02\n",
      "Iteration: 67, Loss: 3.547e+02, Convergence rate: 1.981e-02\n",
      "Iteration: 68, Loss: 3.478e+02, Convergence rate: 1.945e-02\n",
      "Iteration: 69, Loss: 3.412e+02, Convergence rate: 1.909e-02\n",
      "Iteration: 70, Loss: 3.348e+02, Convergence rate: 1.870e-02\n",
      "Iteration: 71, Loss: 3.287e+02, Convergence rate: 1.840e-02\n",
      "Iteration: 72, Loss: 3.228e+02, Convergence rate: 1.796e-02\n",
      "Iteration: 73, Loss: 3.170e+02, Convergence rate: 1.772e-02\n",
      "Iteration: 74, Loss: 3.116e+02, Convergence rate: 1.728e-02\n",
      "Iteration: 75, Loss: 3.063e+02, Convergence rate: 1.696e-02\n",
      "Iteration: 76, Loss: 3.012e+02, Convergence rate: 1.659e-02\n",
      "Iteration: 77, Loss: 2.963e+02, Convergence rate: 1.625e-02\n",
      "Iteration: 78, Loss: 2.916e+02, Convergence rate: 1.588e-02\n",
      "Iteration: 79, Loss: 2.871e+02, Convergence rate: 1.558e-02\n",
      "Iteration: 80, Loss: 2.827e+02, Convergence rate: 1.524e-02\n",
      "Iteration: 81, Loss: 2.785e+02, Convergence rate: 1.485e-02\n",
      "Iteration: 82, Loss: 2.744e+02, Convergence rate: 1.453e-02\n",
      "Iteration: 83, Loss: 2.705e+02, Convergence rate: 1.423e-02\n",
      "Iteration: 84, Loss: 2.668e+02, Convergence rate: 1.388e-02\n",
      "Iteration: 85, Loss: 2.632e+02, Convergence rate: 1.353e-02\n",
      "Iteration: 86, Loss: 2.597e+02, Convergence rate: 1.323e-02\n",
      "Iteration: 87, Loss: 2.563e+02, Convergence rate: 1.289e-02\n",
      "Iteration: 88, Loss: 2.531e+02, Convergence rate: 1.257e-02\n",
      "Iteration: 89, Loss: 2.500e+02, Convergence rate: 1.229e-02\n",
      "Iteration: 90, Loss: 2.470e+02, Convergence rate: 1.196e-02\n",
      "Iteration: 91, Loss: 2.441e+02, Convergence rate: 1.165e-02\n",
      "Iteration: 92, Loss: 2.414e+02, Convergence rate: 1.135e-02\n",
      "Iteration: 93, Loss: 2.387e+02, Convergence rate: 1.108e-02\n",
      "Iteration: 94, Loss: 2.361e+02, Convergence rate: 1.075e-02\n",
      "Iteration: 95, Loss: 2.336e+02, Convergence rate: 1.049e-02\n",
      "Iteration: 96, Loss: 2.313e+02, Convergence rate: 1.022e-02\n"
     ]
    },
    {
     "name": "stderr",
     "output_type": "stream",
     "text": [
      "\r",
      "  0%|                                                                                          | 0/105 [00:00<?, ?it/s]"
     ]
    },
    {
     "name": "stdout",
     "output_type": "stream",
     "text": [
      "Iteration: 97, Loss: 2.290e+02, Convergence rate: 9.938e-03\n",
      "Step size set to 4.000e-02\n",
      "Evidence 21840.330\n",
      "Updating precision...\n"
     ]
    },
    {
     "name": "stderr",
     "output_type": "stream",
     "text": [
      "100%|████████████████████████████████████████████████████████████████████████████████| 105/105 [00:02<00:00, 42.52it/s]\n"
     ]
    },
    {
     "name": "stdout",
     "output_type": "stream",
     "text": [
      "Total samples: 1660, Updated regularization: 1.16e-01\n",
      "Iteration: 0, Loss: 7.040e+02, Convergence rate: inf\n",
      "Iteration: 1, Loss: 7.008e+02, Convergence rate: 4.595e-03\n",
      "Step size set to 2.000e-02\n"
     ]
    },
    {
     "name": "stderr",
     "output_type": "stream",
     "text": [
      " 10%|███████▋                                                                         | 10/105 [00:00<00:00, 99.74it/s]"
     ]
    },
    {
     "name": "stdout",
     "output_type": "stream",
     "text": [
      "Iteration: 2, Loss: 6.945e+02, Convergence rate: 8.943e-03\n",
      "Step size set to 4.000e-02\n",
      "Evidence 30619.337\n",
      "Updating precision...\n"
     ]
    },
    {
     "name": "stderr",
     "output_type": "stream",
     "text": [
      "100%|████████████████████████████████████████████████████████████████████████████████| 105/105 [00:01<00:00, 53.58it/s]\n"
     ]
    },
    {
     "name": "stdout",
     "output_type": "stream",
     "text": [
      "Total samples: 1660, Updated regularization: 1.79e-01\n",
      "Iteration: 0, Loss: 8.156e+02, Convergence rate: inf\n",
      "Iteration: 1, Loss: 8.122e+02, Convergence rate: 4.177e-03\n",
      "Step size set to 2.000e-02\n"
     ]
    },
    {
     "name": "stderr",
     "output_type": "stream",
     "text": [
      " 10%|████████▍                                                                       | 11/105 [00:00<00:00, 101.58it/s]"
     ]
    },
    {
     "name": "stdout",
     "output_type": "stream",
     "text": [
      "Iteration: 2, Loss: 8.056e+02, Convergence rate: 8.137e-03\n",
      "Step size set to 4.000e-02\n",
      "Evidence 31722.064\n",
      "Updating precision...\n"
     ]
    },
    {
     "name": "stderr",
     "output_type": "stream",
     "text": [
      "100%|████████████████████████████████████████████████████████████████████████████████| 105/105 [00:02<00:00, 48.79it/s]\n"
     ]
    },
    {
     "name": "stdout",
     "output_type": "stream",
     "text": [
      "Total samples: 1660, Updated regularization: 1.90e-01\n",
      "Iteration: 0, Loss: 8.278e+02, Convergence rate: inf\n",
      "Iteration: 1, Loss: 8.246e+02, Convergence rate: 3.912e-03\n",
      "Step size set to 2.000e-02\n",
      "Iteration: 2, Loss: 8.182e+02, Convergence rate: 7.777e-03\n",
      "Step size set to 4.000e-02\n",
      "Evidence 31914.330\n",
      "Elapsed time: 457.706\n"
     ]
    },
    {
     "name": "stderr",
     "output_type": "stream",
     "text": [
      " 22%|█████████████████▌                                                              | 23/105 [00:00<00:00, 221.58it/s]"
     ]
    },
    {
     "name": "stdout",
     "output_type": "stream",
     "text": [
      "Training fold 6/11\n",
      "\n",
      "Running gradient descent...\n",
      "Updating precision...\n"
     ]
    },
    {
     "name": "stderr",
     "output_type": "stream",
     "text": [
      "100%|███████████████████████████████████████████████████████████████████████████████| 105/105 [00:00<00:00, 208.55it/s]\n"
     ]
    },
    {
     "name": "stdout",
     "output_type": "stream",
     "text": [
      "Iteration: 0, Loss: 8.075e+02, Convergence rate: inf\n",
      "Iteration: 1, Loss: 7.960e+02, Convergence rate: 1.423e-02\n",
      "Iteration: 2, Loss: 7.847e+02, Convergence rate: 1.423e-02\n",
      "Iteration: 3, Loss: 7.735e+02, Convergence rate: 1.423e-02\n",
      "Iteration: 4, Loss: 7.625e+02, Convergence rate: 1.421e-02\n",
      "Iteration: 5, Loss: 7.517e+02, Convergence rate: 1.420e-02\n",
      "Iteration: 6, Loss: 7.410e+02, Convergence rate: 1.417e-02\n",
      "Iteration: 7, Loss: 7.305e+02, Convergence rate: 1.415e-02\n",
      "Iteration: 8, Loss: 7.202e+02, Convergence rate: 1.414e-02\n",
      "Iteration: 9, Loss: 7.101e+02, Convergence rate: 1.410e-02\n",
      "Iteration: 10, Loss: 7.001e+02, Convergence rate: 1.407e-02\n",
      "Iteration: 11, Loss: 6.903e+02, Convergence rate: 1.402e-02\n",
      "Iteration: 12, Loss: 6.806e+02, Convergence rate: 1.400e-02\n",
      "Iteration: 13, Loss: 6.711e+02, Convergence rate: 1.395e-02\n",
      "Iteration: 14, Loss: 6.618e+02, Convergence rate: 1.392e-02\n",
      "Iteration: 15, Loss: 6.526e+02, Convergence rate: 1.385e-02\n",
      "Iteration: 16, Loss: 6.436e+02, Convergence rate: 1.382e-02\n",
      "Iteration: 17, Loss: 6.347e+02, Convergence rate: 1.378e-02\n",
      "Iteration: 18, Loss: 6.260e+02, Convergence rate: 1.370e-02\n",
      "Iteration: 19, Loss: 6.175e+02, Convergence rate: 1.365e-02\n",
      "Iteration: 20, Loss: 6.091e+02, Convergence rate: 1.361e-02\n",
      "Iteration: 21, Loss: 6.008e+02, Convergence rate: 1.355e-02\n",
      "Iteration: 22, Loss: 5.927e+02, Convergence rate: 1.348e-02\n",
      "Iteration: 23, Loss: 5.847e+02, Convergence rate: 1.343e-02\n",
      "Iteration: 24, Loss: 5.769e+02, Convergence rate: 1.336e-02\n",
      "Iteration: 25, Loss: 5.693e+02, Convergence rate: 1.330e-02\n",
      "Iteration: 26, Loss: 5.617e+02, Convergence rate: 1.323e-02\n",
      "Iteration: 27, Loss: 5.543e+02, Convergence rate: 1.317e-02\n",
      "Iteration: 28, Loss: 5.471e+02, Convergence rate: 1.310e-02\n",
      "Iteration: 29, Loss: 5.399e+02, Convergence rate: 1.305e-02\n",
      "Iteration: 30, Loss: 5.329e+02, Convergence rate: 1.296e-02\n",
      "Iteration: 31, Loss: 5.261e+02, Convergence rate: 1.290e-02\n",
      "Iteration: 32, Loss: 5.193e+02, Convergence rate: 1.282e-02\n",
      "Iteration: 33, Loss: 5.127e+02, Convergence rate: 1.276e-02\n",
      "Iteration: 34, Loss: 5.062e+02, Convergence rate: 1.267e-02\n",
      "Iteration: 35, Loss: 4.998e+02, Convergence rate: 1.261e-02\n",
      "Iteration: 36, Loss: 4.935e+02, Convergence rate: 1.253e-02\n",
      "Iteration: 37, Loss: 4.874e+02, Convergence rate: 1.248e-02\n",
      "Iteration: 38, Loss: 4.814e+02, Convergence rate: 1.237e-02\n",
      "Iteration: 39, Loss: 4.754e+02, Convergence rate: 1.232e-02\n",
      "Iteration: 40, Loss: 4.696e+02, Convergence rate: 1.225e-02\n",
      "Iteration: 41, Loss: 4.639e+02, Convergence rate: 1.214e-02\n",
      "Iteration: 42, Loss: 4.583e+02, Convergence rate: 1.208e-02\n",
      "Iteration: 43, Loss: 4.528e+02, Convergence rate: 1.198e-02\n",
      "Iteration: 44, Loss: 4.474e+02, Convergence rate: 1.192e-02\n",
      "Iteration: 45, Loss: 4.421e+02, Convergence rate: 1.185e-02\n",
      "Iteration: 46, Loss: 4.369e+02, Convergence rate: 1.177e-02\n",
      "Iteration: 47, Loss: 4.318e+02, Convergence rate: 1.164e-02\n",
      "Iteration: 48, Loss: 4.268e+02, Convergence rate: 1.162e-02\n",
      "Iteration: 49, Loss: 4.219e+02, Convergence rate: 1.151e-02\n",
      "Iteration: 50, Loss: 4.171e+02, Convergence rate: 1.142e-02\n",
      "Iteration: 51, Loss: 4.123e+02, Convergence rate: 1.137e-02\n",
      "Iteration: 52, Loss: 4.077e+02, Convergence rate: 1.127e-02\n",
      "Iteration: 53, Loss: 4.031e+02, Convergence rate: 1.119e-02\n",
      "Iteration: 54, Loss: 3.987e+02, Convergence rate: 1.108e-02\n",
      "Iteration: 55, Loss: 3.942e+02, Convergence rate: 1.104e-02\n",
      "Iteration: 56, Loss: 3.899e+02, Convergence rate: 1.092e-02\n",
      "Iteration: 57, Loss: 3.857e+02, Convergence rate: 1.087e-02\n",
      "Iteration: 58, Loss: 3.816e+02, Convergence rate: 1.076e-02\n",
      "Iteration: 59, Loss: 3.775e+02, Convergence rate: 1.068e-02\n",
      "Iteration: 60, Loss: 3.735e+02, Convergence rate: 1.057e-02\n",
      "Iteration: 61, Loss: 3.696e+02, Convergence rate: 1.050e-02\n",
      "Iteration: 62, Loss: 3.657e+02, Convergence rate: 1.043e-02\n",
      "Iteration: 63, Loss: 3.619e+02, Convergence rate: 1.033e-02\n",
      "Iteration: 64, Loss: 3.582e+02, Convergence rate: 1.026e-02\n",
      "Iteration: 65, Loss: 3.546e+02, Convergence rate: 1.016e-02\n",
      "Iteration: 66, Loss: 3.510e+02, Convergence rate: 1.009e-02\n",
      "Iteration: 67, Loss: 3.475e+02, Convergence rate: 9.970e-03\n",
      "Step size set to 2.000e-02\n",
      "Iteration: 68, Loss: 3.406e+02, Convergence rate: 1.978e-02\n",
      "Iteration: 69, Loss: 3.340e+02, Convergence rate: 1.941e-02\n",
      "Iteration: 70, Loss: 3.277e+02, Convergence rate: 1.904e-02\n",
      "Iteration: 71, Loss: 3.215e+02, Convergence rate: 1.873e-02\n",
      "Iteration: 72, Loss: 3.156e+02, Convergence rate: 1.837e-02\n",
      "Iteration: 73, Loss: 3.099e+02, Convergence rate: 1.797e-02\n",
      "Iteration: 74, Loss: 3.045e+02, Convergence rate: 1.769e-02\n",
      "Iteration: 75, Loss: 2.992e+02, Convergence rate: 1.729e-02\n",
      "Iteration: 76, Loss: 2.941e+02, Convergence rate: 1.696e-02\n",
      "Iteration: 77, Loss: 2.892e+02, Convergence rate: 1.662e-02\n",
      "Iteration: 78, Loss: 2.845e+02, Convergence rate: 1.629e-02\n",
      "Iteration: 79, Loss: 2.800e+02, Convergence rate: 1.596e-02\n",
      "Iteration: 80, Loss: 2.756e+02, Convergence rate: 1.556e-02\n",
      "Iteration: 81, Loss: 2.714e+02, Convergence rate: 1.523e-02\n",
      "Iteration: 82, Loss: 2.674e+02, Convergence rate: 1.494e-02\n",
      "Iteration: 83, Loss: 2.635e+02, Convergence rate: 1.454e-02\n",
      "Iteration: 84, Loss: 2.597e+02, Convergence rate: 1.425e-02\n",
      "Iteration: 85, Loss: 2.561e+02, Convergence rate: 1.393e-02\n",
      "Iteration: 86, Loss: 2.526e+02, Convergence rate: 1.357e-02\n",
      "Iteration: 87, Loss: 2.493e+02, Convergence rate: 1.328e-02\n",
      "Iteration: 88, Loss: 2.461e+02, Convergence rate: 1.295e-02\n",
      "Iteration: 89, Loss: 2.430e+02, Convergence rate: 1.261e-02\n",
      "Iteration: 90, Loss: 2.400e+02, Convergence rate: 1.235e-02\n",
      "Iteration: 91, Loss: 2.371e+02, Convergence rate: 1.201e-02\n",
      "Iteration: 92, Loss: 2.343e+02, Convergence rate: 1.175e-02\n",
      "Iteration: 93, Loss: 2.316e+02, Convergence rate: 1.140e-02\n",
      "Iteration: 94, Loss: 2.290e+02, Convergence rate: 1.107e-02\n",
      "Iteration: 95, Loss: 2.266e+02, Convergence rate: 1.085e-02\n",
      "Iteration: 96, Loss: 2.242e+02, Convergence rate: 1.054e-02\n",
      "Iteration: 97, Loss: 2.219e+02, Convergence rate: 1.025e-02\n",
      "Iteration: 98, Loss: 2.197e+02, Convergence rate: 1.001e-02\n"
     ]
    },
    {
     "name": "stderr",
     "output_type": "stream",
     "text": [
      " 10%|███████▋                                                                         | 10/105 [00:00<00:00, 99.76it/s]"
     ]
    },
    {
     "name": "stdout",
     "output_type": "stream",
     "text": [
      "Iteration: 99, Loss: 2.175e+02, Convergence rate: 9.712e-03\n",
      "Step size set to 4.000e-02\n",
      "Evidence 21117.974\n",
      "Updating precision...\n"
     ]
    },
    {
     "name": "stderr",
     "output_type": "stream",
     "text": [
      "100%|████████████████████████████████████████████████████████████████████████████████| 105/105 [00:02<00:00, 45.04it/s]\n"
     ]
    },
    {
     "name": "stdout",
     "output_type": "stream",
     "text": [
      "Total samples: 1615, Updated regularization: 1.05e-01\n",
      "Iteration: 0, Loss: 6.804e+02, Convergence rate: inf\n",
      "Iteration: 1, Loss: 6.773e+02, Convergence rate: 4.482e-03\n",
      "Step size set to 2.000e-02\n"
     ]
    },
    {
     "name": "stderr",
     "output_type": "stream",
     "text": [
      " 10%|███████▋                                                                         | 10/105 [00:00<00:00, 99.67it/s]"
     ]
    },
    {
     "name": "stdout",
     "output_type": "stream",
     "text": [
      "Iteration: 2, Loss: 6.713e+02, Convergence rate: 8.874e-03\n",
      "Step size set to 4.000e-02\n",
      "Evidence 29809.108\n",
      "Updating precision...\n"
     ]
    },
    {
     "name": "stderr",
     "output_type": "stream",
     "text": [
      "100%|████████████████████████████████████████████████████████████████████████████████| 105/105 [00:02<00:00, 35.49it/s]\n"
     ]
    },
    {
     "name": "stdout",
     "output_type": "stream",
     "text": [
      "Total samples: 1615, Updated regularization: 1.65e-01\n",
      "Iteration: 0, Loss: 7.923e+02, Convergence rate: inf\n",
      "Iteration: 1, Loss: 7.891e+02, Convergence rate: 4.067e-03\n",
      "Step size set to 2.000e-02\n"
     ]
    },
    {
     "name": "stderr",
     "output_type": "stream",
     "text": [
      " 10%|███████▋                                                                         | 10/105 [00:00<00:00, 99.74it/s]"
     ]
    },
    {
     "name": "stdout",
     "output_type": "stream",
     "text": [
      "Iteration: 2, Loss: 7.828e+02, Convergence rate: 8.002e-03\n",
      "Step size set to 4.000e-02\n",
      "Evidence 30916.096\n",
      "Updating precision...\n"
     ]
    },
    {
     "name": "stderr",
     "output_type": "stream",
     "text": [
      "100%|████████████████████████████████████████████████████████████████████████████████| 105/105 [00:02<00:00, 50.73it/s]\n"
     ]
    },
    {
     "name": "stdout",
     "output_type": "stream",
     "text": [
      "Total samples: 1615, Updated regularization: 1.76e-01\n",
      "Iteration: 0, Loss: 8.052e+02, Convergence rate: inf\n",
      "Iteration: 1, Loss: 8.020e+02, Convergence rate: 3.919e-03\n",
      "Step size set to 2.000e-02\n",
      "Iteration: 2, Loss: 7.960e+02, Convergence rate: 7.498e-03\n",
      "Step size set to 4.000e-02\n",
      "Evidence 31105.987\n",
      "Elapsed time: 546.782\n"
     ]
    },
    {
     "name": "stderr",
     "output_type": "stream",
     "text": [
      " 20%|████████████████                                                                | 21/105 [00:00<00:00, 209.00it/s]"
     ]
    },
    {
     "name": "stdout",
     "output_type": "stream",
     "text": [
      "Training fold 7/11\n",
      "\n",
      "Running gradient descent...\n",
      "Updating precision...\n"
     ]
    },
    {
     "name": "stderr",
     "output_type": "stream",
     "text": [
      "100%|███████████████████████████████████████████████████████████████████████████████| 105/105 [00:00<00:00, 216.14it/s]\n"
     ]
    },
    {
     "name": "stdout",
     "output_type": "stream",
     "text": [
      "Iteration: 0, Loss: 8.385e+02, Convergence rate: inf\n",
      "Iteration: 1, Loss: 8.263e+02, Convergence rate: 1.453e-02\n",
      "Iteration: 2, Loss: 8.143e+02, Convergence rate: 1.452e-02\n",
      "Iteration: 3, Loss: 8.025e+02, Convergence rate: 1.453e-02\n",
      "Iteration: 4, Loss: 7.908e+02, Convergence rate: 1.451e-02\n",
      "Iteration: 5, Loss: 7.794e+02, Convergence rate: 1.450e-02\n",
      "Iteration: 6, Loss: 7.681e+02, Convergence rate: 1.448e-02\n",
      "Iteration: 7, Loss: 7.570e+02, Convergence rate: 1.446e-02\n",
      "Iteration: 8, Loss: 7.461e+02, Convergence rate: 1.443e-02\n",
      "Iteration: 9, Loss: 7.353e+02, Convergence rate: 1.441e-02\n",
      "Iteration: 10, Loss: 7.247e+02, Convergence rate: 1.438e-02\n",
      "Iteration: 11, Loss: 7.143e+02, Convergence rate: 1.434e-02\n",
      "Iteration: 12, Loss: 7.041e+02, Convergence rate: 1.429e-02\n",
      "Iteration: 13, Loss: 6.941e+02, Convergence rate: 1.426e-02\n",
      "Iteration: 14, Loss: 6.842e+02, Convergence rate: 1.422e-02\n",
      "Iteration: 15, Loss: 6.745e+02, Convergence rate: 1.417e-02\n",
      "Iteration: 16, Loss: 6.650e+02, Convergence rate: 1.412e-02\n",
      "Iteration: 17, Loss: 6.556e+02, Convergence rate: 1.408e-02\n",
      "Iteration: 18, Loss: 6.464e+02, Convergence rate: 1.402e-02\n",
      "Iteration: 19, Loss: 6.374e+02, Convergence rate: 1.396e-02\n",
      "Iteration: 20, Loss: 6.285e+02, Convergence rate: 1.391e-02\n",
      "Iteration: 21, Loss: 6.198e+02, Convergence rate: 1.384e-02\n",
      "Iteration: 22, Loss: 6.113e+02, Convergence rate: 1.380e-02\n",
      "Iteration: 23, Loss: 6.029e+02, Convergence rate: 1.372e-02\n",
      "Iteration: 24, Loss: 5.946e+02, Convergence rate: 1.368e-02\n",
      "Iteration: 25, Loss: 5.866e+02, Convergence rate: 1.359e-02\n",
      "Iteration: 26, Loss: 5.786e+02, Convergence rate: 1.354e-02\n",
      "Iteration: 27, Loss: 5.708e+02, Convergence rate: 1.345e-02\n",
      "Iteration: 28, Loss: 5.632e+02, Convergence rate: 1.341e-02\n",
      "Iteration: 29, Loss: 5.557e+02, Convergence rate: 1.332e-02\n",
      "Iteration: 30, Loss: 5.483e+02, Convergence rate: 1.326e-02\n",
      "Iteration: 31, Loss: 5.411e+02, Convergence rate: 1.319e-02\n",
      "Iteration: 32, Loss: 5.340e+02, Convergence rate: 1.311e-02\n",
      "Iteration: 33, Loss: 5.270e+02, Convergence rate: 1.303e-02\n",
      "Iteration: 34, Loss: 5.202e+02, Convergence rate: 1.298e-02\n",
      "Iteration: 35, Loss: 5.135e+02, Convergence rate: 1.290e-02\n",
      "Iteration: 36, Loss: 5.069e+02, Convergence rate: 1.281e-02\n",
      "Iteration: 37, Loss: 5.004e+02, Convergence rate: 1.274e-02\n",
      "Iteration: 38, Loss: 4.941e+02, Convergence rate: 1.267e-02\n",
      "Iteration: 39, Loss: 4.879e+02, Convergence rate: 1.258e-02\n",
      "Iteration: 40, Loss: 4.818e+02, Convergence rate: 1.250e-02\n",
      "Iteration: 41, Loss: 4.758e+02, Convergence rate: 1.243e-02\n",
      "Iteration: 42, Loss: 4.699e+02, Convergence rate: 1.236e-02\n",
      "Iteration: 43, Loss: 4.641e+02, Convergence rate: 1.227e-02\n",
      "Iteration: 44, Loss: 4.585e+02, Convergence rate: 1.219e-02\n",
      "Iteration: 45, Loss: 4.529e+02, Convergence rate: 1.210e-02\n",
      "Iteration: 46, Loss: 4.475e+02, Convergence rate: 1.202e-02\n",
      "Iteration: 47, Loss: 4.422e+02, Convergence rate: 1.194e-02\n",
      "Iteration: 48, Loss: 4.369e+02, Convergence rate: 1.186e-02\n",
      "Iteration: 49, Loss: 4.318e+02, Convergence rate: 1.179e-02\n",
      "Iteration: 50, Loss: 4.267e+02, Convergence rate: 1.168e-02\n",
      "Iteration: 51, Loss: 4.218e+02, Convergence rate: 1.159e-02\n",
      "Iteration: 52, Loss: 4.169e+02, Convergence rate: 1.153e-02\n",
      "Iteration: 53, Loss: 4.121e+02, Convergence rate: 1.144e-02\n",
      "Iteration: 54, Loss: 4.075e+02, Convergence rate: 1.133e-02\n",
      "Iteration: 55, Loss: 4.029e+02, Convergence rate: 1.130e-02\n",
      "Iteration: 56, Loss: 3.984e+02, Convergence rate: 1.118e-02\n",
      "Iteration: 57, Loss: 3.939e+02, Convergence rate: 1.111e-02\n",
      "Iteration: 58, Loss: 3.896e+02, Convergence rate: 1.097e-02\n",
      "Iteration: 59, Loss: 3.854e+02, Convergence rate: 1.092e-02\n",
      "Iteration: 60, Loss: 3.812e+02, Convergence rate: 1.082e-02\n",
      "Iteration: 61, Loss: 3.771e+02, Convergence rate: 1.076e-02\n",
      "Iteration: 62, Loss: 3.731e+02, Convergence rate: 1.066e-02\n",
      "Iteration: 63, Loss: 3.691e+02, Convergence rate: 1.055e-02\n",
      "Iteration: 64, Loss: 3.653e+02, Convergence rate: 1.048e-02\n",
      "Iteration: 65, Loss: 3.615e+02, Convergence rate: 1.040e-02\n",
      "Iteration: 66, Loss: 3.577e+02, Convergence rate: 1.028e-02\n",
      "Iteration: 67, Loss: 3.541e+02, Convergence rate: 1.022e-02\n",
      "Iteration: 68, Loss: 3.505e+02, Convergence rate: 1.012e-02\n",
      "Iteration: 69, Loss: 3.470e+02, Convergence rate: 1.002e-02\n",
      "Iteration: 70, Loss: 3.435e+02, Convergence rate: 9.977e-03\n",
      "Step size set to 2.000e-02\n",
      "Iteration: 71, Loss: 3.368e+02, Convergence rate: 1.962e-02\n",
      "Iteration: 72, Loss: 3.303e+02, Convergence rate: 1.933e-02\n",
      "Iteration: 73, Loss: 3.240e+02, Convergence rate: 1.895e-02\n",
      "Iteration: 74, Loss: 3.180e+02, Convergence rate: 1.858e-02\n",
      "Iteration: 75, Loss: 3.122e+02, Convergence rate: 1.819e-02\n",
      "Iteration: 76, Loss: 3.066e+02, Convergence rate: 1.787e-02\n",
      "Iteration: 77, Loss: 3.013e+02, Convergence rate: 1.747e-02\n",
      "Iteration: 78, Loss: 2.961e+02, Convergence rate: 1.714e-02\n",
      "Iteration: 79, Loss: 2.911e+02, Convergence rate: 1.678e-02\n",
      "Iteration: 80, Loss: 2.864e+02, Convergence rate: 1.644e-02\n",
      "Iteration: 81, Loss: 2.818e+02, Convergence rate: 1.609e-02\n",
      "Iteration: 82, Loss: 2.773e+02, Convergence rate: 1.573e-02\n",
      "Iteration: 83, Loss: 2.731e+02, Convergence rate: 1.536e-02\n",
      "Iteration: 84, Loss: 2.690e+02, Convergence rate: 1.502e-02\n",
      "Iteration: 85, Loss: 2.650e+02, Convergence rate: 1.474e-02\n",
      "Iteration: 86, Loss: 2.612e+02, Convergence rate: 1.430e-02\n",
      "Iteration: 87, Loss: 2.575e+02, Convergence rate: 1.400e-02\n",
      "Iteration: 88, Loss: 2.540e+02, Convergence rate: 1.372e-02\n",
      "Iteration: 89, Loss: 2.506e+02, Convergence rate: 1.334e-02\n",
      "Iteration: 90, Loss: 2.474e+02, Convergence rate: 1.303e-02\n",
      "Iteration: 91, Loss: 2.442e+02, Convergence rate: 1.270e-02\n",
      "Iteration: 92, Loss: 2.412e+02, Convergence rate: 1.241e-02\n",
      "Iteration: 93, Loss: 2.383e+02, Convergence rate: 1.203e-02\n",
      "Iteration: 94, Loss: 2.355e+02, Convergence rate: 1.178e-02\n",
      "Iteration: 95, Loss: 2.328e+02, Convergence rate: 1.153e-02\n",
      "Iteration: 96, Loss: 2.302e+02, Convergence rate: 1.112e-02\n",
      "Iteration: 97, Loss: 2.277e+02, Convergence rate: 1.089e-02\n",
      "Iteration: 98, Loss: 2.253e+02, Convergence rate: 1.058e-02\n",
      "Iteration: 99, Loss: 2.229e+02, Convergence rate: 1.033e-02\n",
      "Iteration: 100, Loss: 2.207e+02, Convergence rate: 1.003e-02\n"
     ]
    },
    {
     "name": "stderr",
     "output_type": "stream",
     "text": [
      " 10%|███████▋                                                                         | 10/105 [00:00<00:00, 99.75it/s]"
     ]
    },
    {
     "name": "stdout",
     "output_type": "stream",
     "text": [
      "Iteration: 101, Loss: 2.185e+02, Convergence rate: 9.750e-03\n",
      "Step size set to 4.000e-02\n",
      "Evidence 22251.930\n",
      "Updating precision...\n"
     ]
    },
    {
     "name": "stderr",
     "output_type": "stream",
     "text": [
      "100%|████████████████████████████████████████████████████████████████████████████████| 105/105 [00:02<00:00, 42.97it/s]\n"
     ]
    },
    {
     "name": "stdout",
     "output_type": "stream",
     "text": [
      "Total samples: 1677, Updated regularization: 1.04e-01\n",
      "Iteration: 0, Loss: 7.053e+02, Convergence rate: inf\n",
      "Iteration: 1, Loss: 7.021e+02, Convergence rate: 4.547e-03\n",
      "Step size set to 2.000e-02\n"
     ]
    },
    {
     "name": "stderr",
     "output_type": "stream",
     "text": [
      " 10%|███████▋                                                                         | 10/105 [00:00<00:01, 61.56it/s]"
     ]
    },
    {
     "name": "stdout",
     "output_type": "stream",
     "text": [
      "Iteration: 2, Loss: 6.959e+02, Convergence rate: 8.907e-03\n",
      "Step size set to 4.000e-02\n",
      "Evidence 31535.807\n",
      "Updating precision...\n"
     ]
    },
    {
     "name": "stderr",
     "output_type": "stream",
     "text": [
      "100%|████████████████████████████████████████████████████████████████████████████████| 105/105 [00:02<00:00, 44.05it/s]\n"
     ]
    },
    {
     "name": "stdout",
     "output_type": "stream",
     "text": [
      "Total samples: 1677, Updated regularization: 1.65e-01\n",
      "Iteration: 0, Loss: 8.229e+02, Convergence rate: inf\n",
      "Iteration: 1, Loss: 8.195e+02, Convergence rate: 4.158e-03\n",
      "Step size set to 2.000e-02\n"
     ]
    },
    {
     "name": "stderr",
     "output_type": "stream",
     "text": [
      " 10%|████████▍                                                                       | 11/105 [00:00<00:00, 107.52it/s]"
     ]
    },
    {
     "name": "stdout",
     "output_type": "stream",
     "text": [
      "Iteration: 2, Loss: 8.128e+02, Convergence rate: 8.120e-03\n",
      "Step size set to 4.000e-02\n",
      "Evidence 32701.839\n",
      "Updating precision...\n"
     ]
    },
    {
     "name": "stderr",
     "output_type": "stream",
     "text": [
      "100%|████████████████████████████████████████████████████████████████████████████████| 105/105 [00:02<00:00, 39.94it/s]\n"
     ]
    },
    {
     "name": "stdout",
     "output_type": "stream",
     "text": [
      "Total samples: 1677, Updated regularization: 1.77e-01\n",
      "Iteration: 0, Loss: 8.361e+02, Convergence rate: inf\n",
      "Iteration: 1, Loss: 8.329e+02, Convergence rate: 3.885e-03\n",
      "Step size set to 2.000e-02\n",
      "Iteration: 2, Loss: 8.265e+02, Convergence rate: 7.656e-03\n",
      "Step size set to 4.000e-02\n",
      "Evidence 32899.897\n",
      "Elapsed time: 643.510\n"
     ]
    },
    {
     "name": "stderr",
     "output_type": "stream",
     "text": [
      " 37%|█████████████████████████████▋                                                  | 39/105 [00:00<00:00, 198.00it/s]"
     ]
    },
    {
     "name": "stdout",
     "output_type": "stream",
     "text": [
      "Training fold 8/11\n",
      "\n",
      "Running gradient descent...\n",
      "Updating precision...\n"
     ]
    },
    {
     "name": "stderr",
     "output_type": "stream",
     "text": [
      "100%|███████████████████████████████████████████████████████████████████████████████| 105/105 [00:00<00:00, 216.00it/s]\n"
     ]
    },
    {
     "name": "stdout",
     "output_type": "stream",
     "text": [
      "Iteration: 0, Loss: 8.020e+02, Convergence rate: inf\n",
      "Iteration: 1, Loss: 7.906e+02, Convergence rate: 1.415e-02\n",
      "Iteration: 2, Loss: 7.794e+02, Convergence rate: 1.417e-02\n",
      "Iteration: 3, Loss: 7.684e+02, Convergence rate: 1.417e-02\n",
      "Iteration: 4, Loss: 7.575e+02, Convergence rate: 1.417e-02\n",
      "Iteration: 5, Loss: 7.468e+02, Convergence rate: 1.416e-02\n",
      "Iteration: 6, Loss: 7.362e+02, Convergence rate: 1.415e-02\n",
      "Iteration: 7, Loss: 7.258e+02, Convergence rate: 1.414e-02\n",
      "Iteration: 8, Loss: 7.156e+02, Convergence rate: 1.410e-02\n",
      "Iteration: 9, Loss: 7.055e+02, Convergence rate: 1.409e-02\n",
      "Iteration: 10, Loss: 6.956e+02, Convergence rate: 1.405e-02\n",
      "Iteration: 11, Loss: 6.858e+02, Convergence rate: 1.403e-02\n",
      "Iteration: 12, Loss: 6.762e+02, Convergence rate: 1.397e-02\n",
      "Iteration: 13, Loss: 6.668e+02, Convergence rate: 1.396e-02\n",
      "Iteration: 14, Loss: 6.575e+02, Convergence rate: 1.391e-02\n",
      "Iteration: 15, Loss: 6.484e+02, Convergence rate: 1.385e-02\n",
      "Iteration: 16, Loss: 6.394e+02, Convergence rate: 1.384e-02\n",
      "Iteration: 17, Loss: 6.306e+02, Convergence rate: 1.376e-02\n",
      "Iteration: 18, Loss: 6.220e+02, Convergence rate: 1.371e-02\n",
      "Iteration: 19, Loss: 6.135e+02, Convergence rate: 1.367e-02\n",
      "Iteration: 20, Loss: 6.051e+02, Convergence rate: 1.361e-02\n",
      "Iteration: 21, Loss: 5.969e+02, Convergence rate: 1.354e-02\n",
      "Iteration: 22, Loss: 5.889e+02, Convergence rate: 1.349e-02\n",
      "Iteration: 23, Loss: 5.810e+02, Convergence rate: 1.344e-02\n",
      "Iteration: 24, Loss: 5.732e+02, Convergence rate: 1.337e-02\n",
      "Iteration: 25, Loss: 5.656e+02, Convergence rate: 1.331e-02\n",
      "Iteration: 26, Loss: 5.581e+02, Convergence rate: 1.325e-02\n",
      "Iteration: 27, Loss: 5.507e+02, Convergence rate: 1.318e-02\n",
      "Iteration: 28, Loss: 5.435e+02, Convergence rate: 1.311e-02\n",
      "Iteration: 29, Loss: 5.364e+02, Convergence rate: 1.304e-02\n",
      "Iteration: 30, Loss: 5.295e+02, Convergence rate: 1.297e-02\n",
      "Iteration: 31, Loss: 5.226e+02, Convergence rate: 1.291e-02\n",
      "Iteration: 32, Loss: 5.159e+02, Convergence rate: 1.282e-02\n",
      "Iteration: 33, Loss: 5.093e+02, Convergence rate: 1.276e-02\n",
      "Iteration: 34, Loss: 5.029e+02, Convergence rate: 1.268e-02\n",
      "Iteration: 35, Loss: 4.965e+02, Convergence rate: 1.260e-02\n",
      "Iteration: 36, Loss: 4.903e+02, Convergence rate: 1.255e-02\n",
      "Iteration: 37, Loss: 4.842e+02, Convergence rate: 1.245e-02\n",
      "Iteration: 38, Loss: 4.782e+02, Convergence rate: 1.240e-02\n",
      "Iteration: 39, Loss: 4.723e+02, Convergence rate: 1.231e-02\n",
      "Iteration: 40, Loss: 4.665e+02, Convergence rate: 1.223e-02\n",
      "Iteration: 41, Loss: 4.609e+02, Convergence rate: 1.215e-02\n",
      "Iteration: 42, Loss: 4.553e+02, Convergence rate: 1.205e-02\n",
      "Iteration: 43, Loss: 4.499e+02, Convergence rate: 1.200e-02\n",
      "Iteration: 44, Loss: 4.445e+02, Convergence rate: 1.192e-02\n",
      "Iteration: 45, Loss: 4.392e+02, Convergence rate: 1.180e-02\n",
      "Iteration: 46, Loss: 4.341e+02, Convergence rate: 1.176e-02\n",
      "Iteration: 47, Loss: 4.290e+02, Convergence rate: 1.167e-02\n",
      "Iteration: 48, Loss: 4.240e+02, Convergence rate: 1.159e-02\n",
      "Iteration: 49, Loss: 4.192e+02, Convergence rate: 1.149e-02\n",
      "Iteration: 50, Loss: 4.144e+02, Convergence rate: 1.141e-02\n",
      "Iteration: 51, Loss: 4.097e+02, Convergence rate: 1.136e-02\n",
      "Iteration: 52, Loss: 4.051e+02, Convergence rate: 1.123e-02\n",
      "Iteration: 53, Loss: 4.006e+02, Convergence rate: 1.116e-02\n",
      "Iteration: 54, Loss: 3.961e+02, Convergence rate: 1.108e-02\n",
      "Iteration: 55, Loss: 3.918e+02, Convergence rate: 1.099e-02\n",
      "Iteration: 56, Loss: 3.875e+02, Convergence rate: 1.088e-02\n",
      "Iteration: 57, Loss: 3.833e+02, Convergence rate: 1.082e-02\n",
      "Iteration: 58, Loss: 3.792e+02, Convergence rate: 1.075e-02\n",
      "Iteration: 59, Loss: 3.752e+02, Convergence rate: 1.062e-02\n",
      "Iteration: 60, Loss: 3.712e+02, Convergence rate: 1.058e-02\n",
      "Iteration: 61, Loss: 3.673e+02, Convergence rate: 1.046e-02\n",
      "Iteration: 62, Loss: 3.635e+02, Convergence rate: 1.038e-02\n",
      "Iteration: 63, Loss: 3.598e+02, Convergence rate: 1.029e-02\n",
      "Iteration: 64, Loss: 3.561e+02, Convergence rate: 1.021e-02\n",
      "Iteration: 65, Loss: 3.525e+02, Convergence rate: 1.011e-02\n",
      "Iteration: 66, Loss: 3.489e+02, Convergence rate: 1.003e-02\n",
      "Iteration: 67, Loss: 3.455e+02, Convergence rate: 9.963e-03\n",
      "Step size set to 2.000e-02\n",
      "Iteration: 68, Loss: 3.387e+02, Convergence rate: 1.964e-02\n",
      "Iteration: 69, Loss: 3.321e+02, Convergence rate: 1.934e-02\n",
      "Iteration: 70, Loss: 3.258e+02, Convergence rate: 1.892e-02\n",
      "Iteration: 71, Loss: 3.198e+02, Convergence rate: 1.862e-02\n",
      "Iteration: 72, Loss: 3.139e+02, Convergence rate: 1.823e-02\n",
      "Iteration: 73, Loss: 3.084e+02, Convergence rate: 1.783e-02\n",
      "Iteration: 74, Loss: 3.029e+02, Convergence rate: 1.754e-02\n",
      "Iteration: 75, Loss: 2.977e+02, Convergence rate: 1.716e-02\n",
      "Iteration: 76, Loss: 2.927e+02, Convergence rate: 1.680e-02\n",
      "Iteration: 77, Loss: 2.879e+02, Convergence rate: 1.646e-02\n",
      "Iteration: 78, Loss: 2.833e+02, Convergence rate: 1.608e-02\n",
      "Iteration: 79, Loss: 2.788e+02, Convergence rate: 1.576e-02\n",
      "Iteration: 80, Loss: 2.745e+02, Convergence rate: 1.541e-02\n",
      "Iteration: 81, Loss: 2.704e+02, Convergence rate: 1.505e-02\n",
      "Iteration: 82, Loss: 2.664e+02, Convergence rate: 1.475e-02\n",
      "Iteration: 83, Loss: 2.626e+02, Convergence rate: 1.434e-02\n",
      "Iteration: 84, Loss: 2.589e+02, Convergence rate: 1.409e-02\n",
      "Iteration: 85, Loss: 2.553e+02, Convergence rate: 1.370e-02\n",
      "Iteration: 86, Loss: 2.519e+02, Convergence rate: 1.336e-02\n",
      "Iteration: 87, Loss: 2.486e+02, Convergence rate: 1.308e-02\n",
      "Iteration: 88, Loss: 2.455e+02, Convergence rate: 1.274e-02\n",
      "Iteration: 89, Loss: 2.424e+02, Convergence rate: 1.239e-02\n",
      "Iteration: 90, Loss: 2.395e+02, Convergence rate: 1.214e-02\n",
      "Iteration: 91, Loss: 2.367e+02, Convergence rate: 1.176e-02\n",
      "Iteration: 92, Loss: 2.339e+02, Convergence rate: 1.152e-02\n",
      "Iteration: 93, Loss: 2.313e+02, Convergence rate: 1.119e-02\n",
      "Iteration: 94, Loss: 2.288e+02, Convergence rate: 1.090e-02\n",
      "Iteration: 95, Loss: 2.264e+02, Convergence rate: 1.063e-02\n",
      "Iteration: 96, Loss: 2.240e+02, Convergence rate: 1.033e-02\n",
      "Iteration: 97, Loss: 2.218e+02, Convergence rate: 1.006e-02\n"
     ]
    },
    {
     "name": "stderr",
     "output_type": "stream",
     "text": [
      "  4%|███                                                                               | 4/105 [00:00<00:02, 39.85it/s]"
     ]
    },
    {
     "name": "stdout",
     "output_type": "stream",
     "text": [
      "Iteration: 98, Loss: 2.196e+02, Convergence rate: 9.791e-03\n",
      "Step size set to 4.000e-02\n",
      "Evidence 20787.447\n",
      "Updating precision...\n"
     ]
    },
    {
     "name": "stderr",
     "output_type": "stream",
     "text": [
      "100%|████████████████████████████████████████████████████████████████████████████████| 105/105 [00:02<00:00, 45.25it/s]\n"
     ]
    },
    {
     "name": "stdout",
     "output_type": "stream",
     "text": [
      "Total samples: 1604, Updated regularization: 1.19e-01\n",
      "Iteration: 0, Loss: 6.755e+02, Convergence rate: inf\n",
      "Iteration: 1, Loss: 6.725e+02, Convergence rate: 4.497e-03\n",
      "Step size set to 2.000e-02\n"
     ]
    },
    {
     "name": "stderr",
     "output_type": "stream",
     "text": [
      " 10%|████████▍                                                                       | 11/105 [00:00<00:00, 107.57it/s]"
     ]
    },
    {
     "name": "stdout",
     "output_type": "stream",
     "text": [
      "Iteration: 2, Loss: 6.665e+02, Convergence rate: 8.887e-03\n",
      "Step size set to 4.000e-02\n",
      "Evidence 29281.257\n",
      "Updating precision...\n"
     ]
    },
    {
     "name": "stderr",
     "output_type": "stream",
     "text": [
      "100%|████████████████████████████████████████████████████████████████████████████████| 105/105 [00:02<00:00, 38.49it/s]\n"
     ]
    },
    {
     "name": "stdout",
     "output_type": "stream",
     "text": [
      "Total samples: 1604, Updated regularization: 1.91e-01\n",
      "Iteration: 0, Loss: 7.865e+02, Convergence rate: inf\n",
      "Iteration: 1, Loss: 7.832e+02, Convergence rate: 4.133e-03\n",
      "Step size set to 2.000e-02\n"
     ]
    },
    {
     "name": "stderr",
     "output_type": "stream",
     "text": [
      " 10%|███████▋                                                                         | 10/105 [00:00<00:00, 99.76it/s]"
     ]
    },
    {
     "name": "stdout",
     "output_type": "stream",
     "text": [
      "Iteration: 2, Loss: 7.769e+02, Convergence rate: 8.043e-03\n",
      "Step size set to 4.000e-02\n",
      "Evidence 30375.607\n",
      "Updating precision...\n"
     ]
    },
    {
     "name": "stderr",
     "output_type": "stream",
     "text": [
      "100%|████████████████████████████████████████████████████████████████████████████████| 105/105 [00:01<00:00, 63.05it/s]\n"
     ]
    },
    {
     "name": "stdout",
     "output_type": "stream",
     "text": [
      "Total samples: 1604, Updated regularization: 2.05e-01\n",
      "Iteration: 0, Loss: 7.996e+02, Convergence rate: inf\n",
      "Iteration: 1, Loss: 7.964e+02, Convergence rate: 3.898e-03\n",
      "Step size set to 2.000e-02\n",
      "Iteration: 2, Loss: 7.904e+02, Convergence rate: 7.612e-03\n",
      "Step size set to 4.000e-02\n",
      "Evidence 30566.527\n",
      "Elapsed time: 735.131\n"
     ]
    },
    {
     "name": "stderr",
     "output_type": "stream",
     "text": [
      " 41%|████████████████████████████████▊                                               | 43/105 [00:00<00:00, 211.92it/s]"
     ]
    },
    {
     "name": "stdout",
     "output_type": "stream",
     "text": [
      "Training fold 9/11\n",
      "\n",
      "Running gradient descent...\n",
      "Updating precision...\n"
     ]
    },
    {
     "name": "stderr",
     "output_type": "stream",
     "text": [
      "100%|███████████████████████████████████████████████████████████████████████████████| 105/105 [00:00<00:00, 203.46it/s]\n"
     ]
    },
    {
     "name": "stdout",
     "output_type": "stream",
     "text": [
      "Iteration: 0, Loss: 8.270e+02, Convergence rate: inf\n",
      "Iteration: 1, Loss: 8.153e+02, Convergence rate: 1.417e-02\n",
      "Iteration: 2, Loss: 8.037e+02, Convergence rate: 1.418e-02\n",
      "Iteration: 3, Loss: 7.923e+02, Convergence rate: 1.418e-02\n",
      "Iteration: 4, Loss: 7.811e+02, Convergence rate: 1.416e-02\n",
      "Iteration: 5, Loss: 7.700e+02, Convergence rate: 1.415e-02\n",
      "Iteration: 6, Loss: 7.592e+02, Convergence rate: 1.413e-02\n",
      "Iteration: 7, Loss: 7.484e+02, Convergence rate: 1.411e-02\n",
      "Iteration: 8, Loss: 7.379e+02, Convergence rate: 1.410e-02\n",
      "Iteration: 9, Loss: 7.275e+02, Convergence rate: 1.405e-02\n",
      "Iteration: 10, Loss: 7.173e+02, Convergence rate: 1.403e-02\n",
      "Iteration: 11, Loss: 7.073e+02, Convergence rate: 1.399e-02\n",
      "Iteration: 12, Loss: 6.974e+02, Convergence rate: 1.395e-02\n",
      "Iteration: 13, Loss: 6.877e+02, Convergence rate: 1.391e-02\n",
      "Iteration: 14, Loss: 6.782e+02, Convergence rate: 1.386e-02\n",
      "Iteration: 15, Loss: 6.688e+02, Convergence rate: 1.382e-02\n",
      "Iteration: 16, Loss: 6.596e+02, Convergence rate: 1.378e-02\n",
      "Iteration: 17, Loss: 6.505e+02, Convergence rate: 1.371e-02\n",
      "Iteration: 18, Loss: 6.417e+02, Convergence rate: 1.366e-02\n",
      "Iteration: 19, Loss: 6.329e+02, Convergence rate: 1.360e-02\n",
      "Iteration: 20, Loss: 6.243e+02, Convergence rate: 1.357e-02\n",
      "Iteration: 21, Loss: 6.159e+02, Convergence rate: 1.347e-02\n",
      "Iteration: 22, Loss: 6.077e+02, Convergence rate: 1.343e-02\n",
      "Iteration: 23, Loss: 5.995e+02, Convergence rate: 1.337e-02\n",
      "Iteration: 24, Loss: 5.916e+02, Convergence rate: 1.330e-02\n",
      "Iteration: 25, Loss: 5.837e+02, Convergence rate: 1.323e-02\n",
      "Iteration: 26, Loss: 5.761e+02, Convergence rate: 1.316e-02\n",
      "Iteration: 27, Loss: 5.685e+02, Convergence rate: 1.313e-02\n",
      "Iteration: 28, Loss: 5.611e+02, Convergence rate: 1.303e-02\n",
      "Iteration: 29, Loss: 5.538e+02, Convergence rate: 1.297e-02\n",
      "Iteration: 30, Loss: 5.467e+02, Convergence rate: 1.289e-02\n",
      "Iteration: 31, Loss: 5.396e+02, Convergence rate: 1.285e-02\n",
      "Iteration: 32, Loss: 5.328e+02, Convergence rate: 1.276e-02\n",
      "Iteration: 33, Loss: 5.260e+02, Convergence rate: 1.267e-02\n",
      "Iteration: 34, Loss: 5.194e+02, Convergence rate: 1.263e-02\n",
      "Iteration: 35, Loss: 5.129e+02, Convergence rate: 1.254e-02\n",
      "Iteration: 36, Loss: 5.065e+02, Convergence rate: 1.247e-02\n",
      "Iteration: 37, Loss: 5.002e+02, Convergence rate: 1.239e-02\n",
      "Iteration: 38, Loss: 4.940e+02, Convergence rate: 1.231e-02\n",
      "Iteration: 39, Loss: 4.880e+02, Convergence rate: 1.224e-02\n",
      "Iteration: 40, Loss: 4.820e+02, Convergence rate: 1.216e-02\n",
      "Iteration: 41, Loss: 4.762e+02, Convergence rate: 1.209e-02\n",
      "Iteration: 42, Loss: 4.705e+02, Convergence rate: 1.199e-02\n",
      "Iteration: 43, Loss: 4.649e+02, Convergence rate: 1.193e-02\n",
      "Iteration: 44, Loss: 4.594e+02, Convergence rate: 1.186e-02\n",
      "Iteration: 45, Loss: 4.540e+02, Convergence rate: 1.178e-02\n",
      "Iteration: 46, Loss: 4.487e+02, Convergence rate: 1.168e-02\n",
      "Iteration: 47, Loss: 4.435e+02, Convergence rate: 1.160e-02\n",
      "Iteration: 48, Loss: 4.383e+02, Convergence rate: 1.155e-02\n",
      "Iteration: 49, Loss: 4.333e+02, Convergence rate: 1.144e-02\n",
      "Iteration: 50, Loss: 4.284e+02, Convergence rate: 1.136e-02\n",
      "Iteration: 51, Loss: 4.236e+02, Convergence rate: 1.127e-02\n",
      "Iteration: 52, Loss: 4.188e+02, Convergence rate: 1.123e-02\n",
      "Iteration: 53, Loss: 4.142e+02, Convergence rate: 1.110e-02\n",
      "Iteration: 54, Loss: 4.096e+02, Convergence rate: 1.102e-02\n",
      "Iteration: 55, Loss: 4.051e+02, Convergence rate: 1.097e-02\n",
      "Iteration: 56, Loss: 4.007e+02, Convergence rate: 1.086e-02\n",
      "Iteration: 57, Loss: 3.964e+02, Convergence rate: 1.082e-02\n",
      "Iteration: 58, Loss: 3.921e+02, Convergence rate: 1.068e-02\n",
      "Iteration: 59, Loss: 3.880e+02, Convergence rate: 1.062e-02\n",
      "Iteration: 60, Loss: 3.839e+02, Convergence rate: 1.053e-02\n",
      "Iteration: 61, Loss: 3.799e+02, Convergence rate: 1.043e-02\n",
      "Iteration: 62, Loss: 3.760e+02, Convergence rate: 1.038e-02\n",
      "Iteration: 63, Loss: 3.721e+02, Convergence rate: 1.024e-02\n",
      "Iteration: 64, Loss: 3.683e+02, Convergence rate: 1.022e-02\n",
      "Iteration: 65, Loss: 3.646e+02, Convergence rate: 1.010e-02\n",
      "Iteration: 66, Loss: 3.609e+02, Convergence rate: 9.993e-03\n",
      "Step size set to 2.000e-02\n",
      "Iteration: 67, Loss: 3.538e+02, Convergence rate: 1.983e-02\n",
      "Iteration: 68, Loss: 3.469e+02, Convergence rate: 1.946e-02\n",
      "Iteration: 69, Loss: 3.403e+02, Convergence rate: 1.913e-02\n",
      "Iteration: 70, Loss: 3.339e+02, Convergence rate: 1.875e-02\n",
      "Iteration: 71, Loss: 3.277e+02, Convergence rate: 1.845e-02\n",
      "Iteration: 72, Loss: 3.218e+02, Convergence rate: 1.806e-02\n",
      "Iteration: 73, Loss: 3.161e+02, Convergence rate: 1.772e-02\n",
      "Iteration: 74, Loss: 3.106e+02, Convergence rate: 1.737e-02\n",
      "Iteration: 75, Loss: 3.053e+02, Convergence rate: 1.702e-02\n",
      "Iteration: 76, Loss: 3.002e+02, Convergence rate: 1.670e-02\n",
      "Iteration: 77, Loss: 2.953e+02, Convergence rate: 1.632e-02\n",
      "Iteration: 78, Loss: 2.906e+02, Convergence rate: 1.600e-02\n",
      "Iteration: 79, Loss: 2.861e+02, Convergence rate: 1.565e-02\n",
      "Iteration: 80, Loss: 2.817e+02, Convergence rate: 1.533e-02\n",
      "Iteration: 81, Loss: 2.774e+02, Convergence rate: 1.499e-02\n",
      "Iteration: 82, Loss: 2.734e+02, Convergence rate: 1.467e-02\n",
      "Iteration: 83, Loss: 2.695e+02, Convergence rate: 1.429e-02\n",
      "Iteration: 84, Loss: 2.657e+02, Convergence rate: 1.398e-02\n",
      "Iteration: 85, Loss: 2.621e+02, Convergence rate: 1.368e-02\n",
      "Iteration: 86, Loss: 2.586e+02, Convergence rate: 1.333e-02\n",
      "Iteration: 87, Loss: 2.552e+02, Convergence rate: 1.305e-02\n",
      "Iteration: 88, Loss: 2.520e+02, Convergence rate: 1.271e-02\n",
      "Iteration: 89, Loss: 2.488e+02, Convergence rate: 1.238e-02\n",
      "Iteration: 90, Loss: 2.458e+02, Convergence rate: 1.215e-02\n",
      "Iteration: 91, Loss: 2.429e+02, Convergence rate: 1.179e-02\n",
      "Iteration: 92, Loss: 2.401e+02, Convergence rate: 1.150e-02\n",
      "Iteration: 93, Loss: 2.374e+02, Convergence rate: 1.125e-02\n",
      "Iteration: 94, Loss: 2.348e+02, Convergence rate: 1.085e-02\n",
      "Iteration: 95, Loss: 2.323e+02, Convergence rate: 1.066e-02\n",
      "Iteration: 96, Loss: 2.299e+02, Convergence rate: 1.035e-02\n",
      "Iteration: 97, Loss: 2.276e+02, Convergence rate: 1.009e-02\n"
     ]
    },
    {
     "name": "stderr",
     "output_type": "stream",
     "text": [
      " 10%|████████▍                                                                       | 11/105 [00:00<00:00, 109.73it/s]"
     ]
    },
    {
     "name": "stdout",
     "output_type": "stream",
     "text": [
      "Iteration: 98, Loss: 2.254e+02, Convergence rate: 9.804e-03\n",
      "Step size set to 4.000e-02\n",
      "Evidence 21866.833\n",
      "Updating precision...\n"
     ]
    },
    {
     "name": "stderr",
     "output_type": "stream",
     "text": [
      "100%|████████████████████████████████████████████████████████████████████████████████| 105/105 [00:01<00:00, 52.71it/s]\n"
     ]
    },
    {
     "name": "stdout",
     "output_type": "stream",
     "text": [
      "Total samples: 1654, Updated regularization: 1.09e-01\n",
      "Iteration: 0, Loss: 7.000e+02, Convergence rate: inf\n",
      "Iteration: 1, Loss: 6.968e+02, Convergence rate: 4.543e-03\n",
      "Step size set to 2.000e-02\n"
     ]
    },
    {
     "name": "stderr",
     "output_type": "stream",
     "text": [
      "  8%|██████▏                                                                           | 8/105 [00:00<00:01, 56.94it/s]"
     ]
    },
    {
     "name": "stdout",
     "output_type": "stream",
     "text": [
      "Iteration: 2, Loss: 6.906e+02, Convergence rate: 8.921e-03\n",
      "Step size set to 4.000e-02\n",
      "Evidence 30703.535\n",
      "Updating precision...\n"
     ]
    },
    {
     "name": "stderr",
     "output_type": "stream",
     "text": [
      "100%|████████████████████████████████████████████████████████████████████████████████| 105/105 [00:01<00:00, 56.88it/s]\n"
     ]
    },
    {
     "name": "stdout",
     "output_type": "stream",
     "text": [
      "Total samples: 1654, Updated regularization: 1.71e-01\n",
      "Iteration: 0, Loss: 8.121e+02, Convergence rate: inf\n",
      "Iteration: 1, Loss: 8.088e+02, Convergence rate: 4.108e-03\n",
      "Step size set to 2.000e-02\n"
     ]
    },
    {
     "name": "stderr",
     "output_type": "stream",
     "text": [
      " 10%|████████▍                                                                       | 11/105 [00:00<00:00, 109.72it/s]"
     ]
    },
    {
     "name": "stdout",
     "output_type": "stream",
     "text": [
      "Iteration: 2, Loss: 8.023e+02, Convergence rate: 8.067e-03\n",
      "Step size set to 4.000e-02\n",
      "Evidence 31810.911\n",
      "Updating precision...\n"
     ]
    },
    {
     "name": "stderr",
     "output_type": "stream",
     "text": [
      "100%|████████████████████████████████████████████████████████████████████████████████| 105/105 [00:01<00:00, 64.85it/s]\n"
     ]
    },
    {
     "name": "stdout",
     "output_type": "stream",
     "text": [
      "Total samples: 1654, Updated regularization: 1.82e-01\n",
      "Iteration: 0, Loss: 8.247e+02, Convergence rate: inf\n",
      "Iteration: 1, Loss: 8.215e+02, Convergence rate: 3.903e-03\n",
      "Step size set to 2.000e-02\n",
      "Iteration: 2, Loss: 8.152e+02, Convergence rate: 7.678e-03\n",
      "Step size set to 4.000e-02\n",
      "Evidence 32002.466\n",
      "Elapsed time: 821.286\n"
     ]
    },
    {
     "name": "stderr",
     "output_type": "stream",
     "text": [
      " 40%|████████████████████████████████                                                | 42/105 [00:00<00:00, 212.97it/s]"
     ]
    },
    {
     "name": "stdout",
     "output_type": "stream",
     "text": [
      "Training fold 10/11\n",
      "\n",
      "Running gradient descent...\n",
      "Updating precision...\n"
     ]
    },
    {
     "name": "stderr",
     "output_type": "stream",
     "text": [
      "100%|███████████████████████████████████████████████████████████████████████████████| 105/105 [00:00<00:00, 223.31it/s]\n"
     ]
    },
    {
     "name": "stdout",
     "output_type": "stream",
     "text": [
      "Iteration: 0, Loss: 8.175e+02, Convergence rate: inf\n",
      "Iteration: 1, Loss: 8.058e+02, Convergence rate: 1.433e-02\n",
      "Iteration: 2, Loss: 7.942e+02, Convergence rate: 1.434e-02\n",
      "Iteration: 3, Loss: 7.828e+02, Convergence rate: 1.434e-02\n",
      "Iteration: 4, Loss: 7.716e+02, Convergence rate: 1.434e-02\n",
      "Iteration: 5, Loss: 7.605e+02, Convergence rate: 1.434e-02\n",
      "Iteration: 6, Loss: 7.496e+02, Convergence rate: 1.432e-02\n",
      "Iteration: 7, Loss: 7.389e+02, Convergence rate: 1.433e-02\n",
      "Iteration: 8, Loss: 7.283e+02, Convergence rate: 1.431e-02\n",
      "Iteration: 9, Loss: 7.179e+02, Convergence rate: 1.428e-02\n",
      "Iteration: 10, Loss: 7.077e+02, Convergence rate: 1.426e-02\n",
      "Iteration: 11, Loss: 6.976e+02, Convergence rate: 1.423e-02\n",
      "Iteration: 12, Loss: 6.877e+02, Convergence rate: 1.419e-02\n",
      "Iteration: 13, Loss: 6.780e+02, Convergence rate: 1.417e-02\n",
      "Iteration: 14, Loss: 6.684e+02, Convergence rate: 1.413e-02\n",
      "Iteration: 15, Loss: 6.590e+02, Convergence rate: 1.408e-02\n",
      "Iteration: 16, Loss: 6.497e+02, Convergence rate: 1.404e-02\n",
      "Iteration: 17, Loss: 6.406e+02, Convergence rate: 1.401e-02\n",
      "Iteration: 18, Loss: 6.317e+02, Convergence rate: 1.396e-02\n",
      "Iteration: 19, Loss: 6.229e+02, Convergence rate: 1.389e-02\n",
      "Iteration: 20, Loss: 6.143e+02, Convergence rate: 1.386e-02\n",
      "Iteration: 21, Loss: 6.058e+02, Convergence rate: 1.380e-02\n",
      "Iteration: 22, Loss: 5.975e+02, Convergence rate: 1.375e-02\n",
      "Iteration: 23, Loss: 5.893e+02, Convergence rate: 1.368e-02\n",
      "Iteration: 24, Loss: 5.813e+02, Convergence rate: 1.363e-02\n",
      "Iteration: 25, Loss: 5.734e+02, Convergence rate: 1.356e-02\n",
      "Iteration: 26, Loss: 5.656e+02, Convergence rate: 1.352e-02\n",
      "Iteration: 27, Loss: 5.580e+02, Convergence rate: 1.344e-02\n",
      "Iteration: 28, Loss: 5.506e+02, Convergence rate: 1.338e-02\n",
      "Iteration: 29, Loss: 5.432e+02, Convergence rate: 1.330e-02\n",
      "Iteration: 30, Loss: 5.361e+02, Convergence rate: 1.323e-02\n",
      "Iteration: 31, Loss: 5.290e+02, Convergence rate: 1.319e-02\n",
      "Iteration: 32, Loss: 5.221e+02, Convergence rate: 1.309e-02\n",
      "Iteration: 33, Loss: 5.153e+02, Convergence rate: 1.303e-02\n",
      "Iteration: 34, Loss: 5.086e+02, Convergence rate: 1.296e-02\n",
      "Iteration: 35, Loss: 5.020e+02, Convergence rate: 1.287e-02\n",
      "Iteration: 36, Loss: 4.956e+02, Convergence rate: 1.283e-02\n",
      "Iteration: 37, Loss: 4.893e+02, Convergence rate: 1.274e-02\n",
      "Iteration: 38, Loss: 4.831e+02, Convergence rate: 1.266e-02\n",
      "Iteration: 39, Loss: 4.770e+02, Convergence rate: 1.255e-02\n",
      "Iteration: 40, Loss: 4.710e+02, Convergence rate: 1.251e-02\n",
      "Iteration: 41, Loss: 4.652e+02, Convergence rate: 1.242e-02\n",
      "Iteration: 42, Loss: 4.594e+02, Convergence rate: 1.236e-02\n",
      "Iteration: 43, Loss: 4.538e+02, Convergence rate: 1.226e-02\n",
      "Iteration: 44, Loss: 4.483e+02, Convergence rate: 1.217e-02\n",
      "Iteration: 45, Loss: 4.429e+02, Convergence rate: 1.211e-02\n",
      "Iteration: 46, Loss: 4.375e+02, Convergence rate: 1.203e-02\n",
      "Iteration: 47, Loss: 4.323e+02, Convergence rate: 1.192e-02\n",
      "Iteration: 48, Loss: 4.272e+02, Convergence rate: 1.186e-02\n",
      "Iteration: 49, Loss: 4.222e+02, Convergence rate: 1.176e-02\n",
      "Iteration: 50, Loss: 4.172e+02, Convergence rate: 1.166e-02\n",
      "Iteration: 51, Loss: 4.124e+02, Convergence rate: 1.162e-02\n",
      "Iteration: 52, Loss: 4.076e+02, Convergence rate: 1.151e-02\n",
      "Iteration: 53, Loss: 4.030e+02, Convergence rate: 1.142e-02\n",
      "Iteration: 54, Loss: 3.984e+02, Convergence rate: 1.134e-02\n",
      "Iteration: 55, Loss: 3.939e+02, Convergence rate: 1.124e-02\n",
      "Iteration: 56, Loss: 3.896e+02, Convergence rate: 1.114e-02\n",
      "Iteration: 57, Loss: 3.852e+02, Convergence rate: 1.107e-02\n",
      "Iteration: 58, Loss: 3.810e+02, Convergence rate: 1.099e-02\n",
      "Iteration: 59, Loss: 3.769e+02, Convergence rate: 1.085e-02\n",
      "Iteration: 60, Loss: 3.728e+02, Convergence rate: 1.082e-02\n",
      "Iteration: 61, Loss: 3.688e+02, Convergence rate: 1.070e-02\n",
      "Iteration: 62, Loss: 3.649e+02, Convergence rate: 1.062e-02\n",
      "Iteration: 63, Loss: 3.611e+02, Convergence rate: 1.053e-02\n",
      "Iteration: 64, Loss: 3.573e+02, Convergence rate: 1.044e-02\n",
      "Iteration: 65, Loss: 3.536e+02, Convergence rate: 1.034e-02\n",
      "Iteration: 66, Loss: 3.500e+02, Convergence rate: 1.024e-02\n",
      "Iteration: 67, Loss: 3.464e+02, Convergence rate: 1.015e-02\n",
      "Iteration: 68, Loss: 3.429e+02, Convergence rate: 1.007e-02\n",
      "Iteration: 69, Loss: 3.395e+02, Convergence rate: 9.971e-03\n",
      "Step size set to 2.000e-02\n",
      "Iteration: 70, Loss: 3.328e+02, Convergence rate: 1.974e-02\n",
      "Iteration: 71, Loss: 3.264e+02, Convergence rate: 1.935e-02\n",
      "Iteration: 72, Loss: 3.202e+02, Convergence rate: 1.898e-02\n",
      "Iteration: 73, Loss: 3.142e+02, Convergence rate: 1.856e-02\n",
      "Iteration: 74, Loss: 3.085e+02, Convergence rate: 1.824e-02\n",
      "Iteration: 75, Loss: 3.030e+02, Convergence rate: 1.787e-02\n",
      "Iteration: 76, Loss: 2.977e+02, Convergence rate: 1.747e-02\n",
      "Iteration: 77, Loss: 2.926e+02, Convergence rate: 1.710e-02\n",
      "Iteration: 78, Loss: 2.877e+02, Convergence rate: 1.677e-02\n",
      "Iteration: 79, Loss: 2.830e+02, Convergence rate: 1.634e-02\n",
      "Iteration: 80, Loss: 2.785e+02, Convergence rate: 1.605e-02\n",
      "Iteration: 81, Loss: 2.741e+02, Convergence rate: 1.566e-02\n",
      "Iteration: 82, Loss: 2.699e+02, Convergence rate: 1.531e-02\n",
      "Iteration: 83, Loss: 2.659e+02, Convergence rate: 1.494e-02\n",
      "Iteration: 84, Loss: 2.620e+02, Convergence rate: 1.459e-02\n",
      "Iteration: 85, Loss: 2.583e+02, Convergence rate: 1.425e-02\n",
      "Iteration: 86, Loss: 2.547e+02, Convergence rate: 1.392e-02\n",
      "Iteration: 87, Loss: 2.512e+02, Convergence rate: 1.353e-02\n",
      "Iteration: 88, Loss: 2.479e+02, Convergence rate: 1.322e-02\n",
      "Iteration: 89, Loss: 2.447e+02, Convergence rate: 1.291e-02\n",
      "Iteration: 90, Loss: 2.416e+02, Convergence rate: 1.257e-02\n",
      "Iteration: 91, Loss: 2.387e+02, Convergence rate: 1.226e-02\n",
      "Iteration: 92, Loss: 2.358e+02, Convergence rate: 1.188e-02\n",
      "Iteration: 93, Loss: 2.331e+02, Convergence rate: 1.163e-02\n",
      "Iteration: 94, Loss: 2.304e+02, Convergence rate: 1.133e-02\n",
      "Iteration: 95, Loss: 2.279e+02, Convergence rate: 1.100e-02\n",
      "Iteration: 96, Loss: 2.255e+02, Convergence rate: 1.069e-02\n",
      "Iteration: 97, Loss: 2.231e+02, Convergence rate: 1.044e-02\n",
      "Iteration: 98, Loss: 2.208e+02, Convergence rate: 1.016e-02\n"
     ]
    },
    {
     "name": "stderr",
     "output_type": "stream",
     "text": [
      " 10%|███████▋                                                                         | 10/105 [00:00<00:00, 99.72it/s]"
     ]
    },
    {
     "name": "stdout",
     "output_type": "stream",
     "text": [
      "Iteration: 99, Loss: 2.187e+02, Convergence rate: 9.843e-03\n",
      "Step size set to 4.000e-02\n",
      "Evidence 21615.694\n",
      "Updating precision...\n"
     ]
    },
    {
     "name": "stderr",
     "output_type": "stream",
     "text": [
      "100%|████████████████████████████████████████████████████████████████████████████████| 105/105 [00:03<00:00, 31.63it/s]\n"
     ]
    },
    {
     "name": "stdout",
     "output_type": "stream",
     "text": [
      "Total samples: 1635, Updated regularization: 1.14e-01\n",
      "Iteration: 0, Loss: 6.874e+02, Convergence rate: inf\n",
      "Iteration: 1, Loss: 6.843e+02, Convergence rate: 4.567e-03\n",
      "Step size set to 2.000e-02\n"
     ]
    },
    {
     "name": "stderr",
     "output_type": "stream",
     "text": [
      " 10%|████████▍                                                                       | 11/105 [00:00<00:00, 109.73it/s]"
     ]
    },
    {
     "name": "stdout",
     "output_type": "stream",
     "text": [
      "Iteration: 2, Loss: 6.781e+02, Convergence rate: 9.013e-03\n",
      "Step size set to 4.000e-02\n",
      "Evidence 30445.467\n",
      "Updating precision...\n"
     ]
    },
    {
     "name": "stderr",
     "output_type": "stream",
     "text": [
      "100%|████████████████████████████████████████████████████████████████████████████████| 105/105 [00:02<00:00, 39.74it/s]\n"
     ]
    },
    {
     "name": "stdout",
     "output_type": "stream",
     "text": [
      "Total samples: 1635, Updated regularization: 1.81e-01\n",
      "Iteration: 0, Loss: 8.021e+02, Convergence rate: inf\n",
      "Iteration: 1, Loss: 7.988e+02, Convergence rate: 4.165e-03\n",
      "Step size set to 2.000e-02\n"
     ]
    },
    {
     "name": "stderr",
     "output_type": "stream",
     "text": [
      " 20%|████████████████                                                                | 21/105 [00:00<00:00, 101.98it/s]"
     ]
    },
    {
     "name": "stdout",
     "output_type": "stream",
     "text": [
      "Iteration: 2, Loss: 7.922e+02, Convergence rate: 8.201e-03\n",
      "Step size set to 4.000e-02\n",
      "Evidence 31581.525\n",
      "Updating precision...\n"
     ]
    },
    {
     "name": "stderr",
     "output_type": "stream",
     "text": [
      "100%|████████████████████████████████████████████████████████████████████████████████| 105/105 [00:02<00:00, 45.03it/s]\n"
     ]
    },
    {
     "name": "stdout",
     "output_type": "stream",
     "text": [
      "Total samples: 1635, Updated regularization: 1.94e-01\n",
      "Iteration: 0, Loss: 8.152e+02, Convergence rate: inf\n",
      "Iteration: 1, Loss: 8.119e+02, Convergence rate: 3.999e-03\n",
      "Step size set to 2.000e-02\n",
      "Iteration: 2, Loss: 8.056e+02, Convergence rate: 7.758e-03\n",
      "Step size set to 4.000e-02\n",
      "Evidence 31777.098\n",
      "Elapsed time: 919.723\n"
     ]
    },
    {
     "name": "stderr",
     "output_type": "stream",
     "text": [
      " 40%|████████████████████████████████                                                | 44/110 [00:00<00:00, 218.17it/s]"
     ]
    },
    {
     "name": "stdout",
     "output_type": "stream",
     "text": [
      "Training fold 11/11\n",
      "\n",
      "Running gradient descent...\n",
      "Updating precision...\n"
     ]
    },
    {
     "name": "stderr",
     "output_type": "stream",
     "text": [
      "100%|███████████████████████████████████████████████████████████████████████████████| 110/110 [00:00<00:00, 223.57it/s]\n"
     ]
    },
    {
     "name": "stdout",
     "output_type": "stream",
     "text": [
      "Iteration: 0, Loss: 8.585e+02, Convergence rate: inf\n",
      "Iteration: 1, Loss: 8.464e+02, Convergence rate: 1.411e-02\n",
      "Iteration: 2, Loss: 8.344e+02, Convergence rate: 1.412e-02\n",
      "Iteration: 3, Loss: 8.227e+02, Convergence rate: 1.411e-02\n",
      "Iteration: 4, Loss: 8.110e+02, Convergence rate: 1.411e-02\n",
      "Iteration: 5, Loss: 7.996e+02, Convergence rate: 1.410e-02\n",
      "Iteration: 6, Loss: 7.884e+02, Convergence rate: 1.407e-02\n",
      "Iteration: 7, Loss: 7.773e+02, Convergence rate: 1.407e-02\n",
      "Iteration: 8, Loss: 7.663e+02, Convergence rate: 1.404e-02\n",
      "Iteration: 9, Loss: 7.556e+02, Convergence rate: 1.401e-02\n",
      "Iteration: 10, Loss: 7.450e+02, Convergence rate: 1.399e-02\n",
      "Iteration: 11, Loss: 7.346e+02, Convergence rate: 1.395e-02\n",
      "Iteration: 12, Loss: 7.244e+02, Convergence rate: 1.393e-02\n",
      "Iteration: 13, Loss: 7.144e+02, Convergence rate: 1.387e-02\n",
      "Iteration: 14, Loss: 7.045e+02, Convergence rate: 1.385e-02\n",
      "Iteration: 15, Loss: 6.948e+02, Convergence rate: 1.379e-02\n",
      "Iteration: 16, Loss: 6.852e+02, Convergence rate: 1.375e-02\n",
      "Iteration: 17, Loss: 6.758e+02, Convergence rate: 1.371e-02\n",
      "Iteration: 18, Loss: 6.666e+02, Convergence rate: 1.365e-02\n",
      "Iteration: 19, Loss: 6.575e+02, Convergence rate: 1.359e-02\n",
      "Iteration: 20, Loss: 6.486e+02, Convergence rate: 1.355e-02\n",
      "Iteration: 21, Loss: 6.399e+02, Convergence rate: 1.348e-02\n",
      "Iteration: 22, Loss: 6.313e+02, Convergence rate: 1.342e-02\n",
      "Iteration: 23, Loss: 6.229e+02, Convergence rate: 1.337e-02\n",
      "Iteration: 24, Loss: 6.146e+02, Convergence rate: 1.328e-02\n",
      "Iteration: 25, Loss: 6.064e+02, Convergence rate: 1.325e-02\n",
      "Iteration: 26, Loss: 5.985e+02, Convergence rate: 1.316e-02\n",
      "Iteration: 27, Loss: 5.906e+02, Convergence rate: 1.311e-02\n",
      "Iteration: 28, Loss: 5.829e+02, Convergence rate: 1.303e-02\n",
      "Iteration: 29, Loss: 5.753e+02, Convergence rate: 1.298e-02\n",
      "Iteration: 30, Loss: 5.679e+02, Convergence rate: 1.288e-02\n",
      "Iteration: 31, Loss: 5.607e+02, Convergence rate: 1.283e-02\n",
      "Iteration: 32, Loss: 5.535e+02, Convergence rate: 1.276e-02\n",
      "Iteration: 33, Loss: 5.465e+02, Convergence rate: 1.268e-02\n",
      "Iteration: 34, Loss: 5.396e+02, Convergence rate: 1.262e-02\n",
      "Iteration: 35, Loss: 5.328e+02, Convergence rate: 1.254e-02\n",
      "Iteration: 36, Loss: 5.262e+02, Convergence rate: 1.244e-02\n",
      "Iteration: 37, Loss: 5.197e+02, Convergence rate: 1.240e-02\n",
      "Iteration: 38, Loss: 5.133e+02, Convergence rate: 1.232e-02\n",
      "Iteration: 39, Loss: 5.070e+02, Convergence rate: 1.224e-02\n",
      "Iteration: 40, Loss: 5.008e+02, Convergence rate: 1.214e-02\n",
      "Iteration: 41, Loss: 4.948e+02, Convergence rate: 1.208e-02\n",
      "Iteration: 42, Loss: 4.888e+02, Convergence rate: 1.200e-02\n",
      "Iteration: 43, Loss: 4.830e+02, Convergence rate: 1.193e-02\n",
      "Iteration: 44, Loss: 4.773e+02, Convergence rate: 1.184e-02\n",
      "Iteration: 45, Loss: 4.717e+02, Convergence rate: 1.174e-02\n",
      "Iteration: 46, Loss: 4.662e+02, Convergence rate: 1.168e-02\n",
      "Iteration: 47, Loss: 4.608e+02, Convergence rate: 1.160e-02\n",
      "Iteration: 48, Loss: 4.555e+02, Convergence rate: 1.153e-02\n",
      "Iteration: 49, Loss: 4.503e+02, Convergence rate: 1.141e-02\n",
      "Iteration: 50, Loss: 4.451e+02, Convergence rate: 1.136e-02\n",
      "Iteration: 51, Loss: 4.401e+02, Convergence rate: 1.128e-02\n",
      "Iteration: 52, Loss: 4.352e+02, Convergence rate: 1.118e-02\n",
      "Iteration: 53, Loss: 4.304e+02, Convergence rate: 1.112e-02\n",
      "Iteration: 54, Loss: 4.256e+02, Convergence rate: 1.100e-02\n",
      "Iteration: 55, Loss: 4.210e+02, Convergence rate: 1.093e-02\n",
      "Iteration: 56, Loss: 4.164e+02, Convergence rate: 1.085e-02\n",
      "Iteration: 57, Loss: 4.119e+02, Convergence rate: 1.076e-02\n",
      "Iteration: 58, Loss: 4.075e+02, Convergence rate: 1.070e-02\n",
      "Iteration: 59, Loss: 4.032e+02, Convergence rate: 1.061e-02\n",
      "Iteration: 60, Loss: 3.990e+02, Convergence rate: 1.047e-02\n",
      "Iteration: 61, Loss: 3.948e+02, Convergence rate: 1.042e-02\n",
      "Iteration: 62, Loss: 3.907e+02, Convergence rate: 1.035e-02\n",
      "Iteration: 63, Loss: 3.867e+02, Convergence rate: 1.025e-02\n",
      "Iteration: 64, Loss: 3.828e+02, Convergence rate: 1.016e-02\n",
      "Iteration: 65, Loss: 3.789e+02, Convergence rate: 1.005e-02\n",
      "Iteration: 66, Loss: 3.752e+02, Convergence rate: 1.001e-02\n",
      "Iteration: 67, Loss: 3.714e+02, Convergence rate: 9.889e-03\n",
      "Step size set to 2.000e-02\n",
      "Iteration: 68, Loss: 3.642e+02, Convergence rate: 1.960e-02\n",
      "Iteration: 69, Loss: 3.572e+02, Convergence rate: 1.922e-02\n",
      "Iteration: 70, Loss: 3.504e+02, Convergence rate: 1.889e-02\n",
      "Iteration: 71, Loss: 3.439e+02, Convergence rate: 1.853e-02\n",
      "Iteration: 72, Loss: 3.377e+02, Convergence rate: 1.818e-02\n",
      "Iteration: 73, Loss: 3.317e+02, Convergence rate: 1.780e-02\n",
      "Iteration: 74, Loss: 3.259e+02, Convergence rate: 1.748e-02\n",
      "Iteration: 75, Loss: 3.203e+02, Convergence rate: 1.714e-02\n",
      "Iteration: 76, Loss: 3.149e+02, Convergence rate: 1.674e-02\n",
      "Iteration: 77, Loss: 3.097e+02, Convergence rate: 1.642e-02\n",
      "Iteration: 78, Loss: 3.048e+02, Convergence rate: 1.609e-02\n",
      "Iteration: 79, Loss: 3.000e+02, Convergence rate: 1.569e-02\n",
      "Iteration: 80, Loss: 2.954e+02, Convergence rate: 1.543e-02\n",
      "Iteration: 81, Loss: 2.909e+02, Convergence rate: 1.504e-02\n",
      "Iteration: 82, Loss: 2.866e+02, Convergence rate: 1.470e-02\n",
      "Iteration: 83, Loss: 2.825e+02, Convergence rate: 1.438e-02\n",
      "Iteration: 84, Loss: 2.785e+02, Convergence rate: 1.403e-02\n",
      "Iteration: 85, Loss: 2.747e+02, Convergence rate: 1.372e-02\n",
      "Iteration: 86, Loss: 2.710e+02, Convergence rate: 1.338e-02\n",
      "Iteration: 87, Loss: 2.675e+02, Convergence rate: 1.307e-02\n",
      "Iteration: 88, Loss: 2.641e+02, Convergence rate: 1.275e-02\n",
      "Iteration: 89, Loss: 2.608e+02, Convergence rate: 1.245e-02\n",
      "Iteration: 90, Loss: 2.577e+02, Convergence rate: 1.210e-02\n",
      "Iteration: 91, Loss: 2.546e+02, Convergence rate: 1.185e-02\n",
      "Iteration: 92, Loss: 2.517e+02, Convergence rate: 1.149e-02\n",
      "Iteration: 93, Loss: 2.489e+02, Convergence rate: 1.121e-02\n",
      "Iteration: 94, Loss: 2.461e+02, Convergence rate: 1.091e-02\n",
      "Iteration: 95, Loss: 2.435e+02, Convergence rate: 1.064e-02\n",
      "Iteration: 96, Loss: 2.410e+02, Convergence rate: 1.036e-02\n",
      "Iteration: 97, Loss: 2.386e+02, Convergence rate: 1.008e-02\n"
     ]
    },
    {
     "name": "stderr",
     "output_type": "stream",
     "text": [
      "  4%|██▉                                                                               | 4/110 [00:00<00:04, 23.45it/s]"
     ]
    },
    {
     "name": "stdout",
     "output_type": "stream",
     "text": [
      "Iteration: 98, Loss: 2.362e+02, Convergence rate: 9.775e-03\n",
      "Step size set to 4.000e-02\n",
      "Evidence 22861.322\n",
      "Updating precision...\n"
     ]
    },
    {
     "name": "stderr",
     "output_type": "stream",
     "text": [
      "100%|████████████████████████████████████████████████████████████████████████████████| 110/110 [00:02<00:00, 39.43it/s]\n"
     ]
    },
    {
     "name": "stdout",
     "output_type": "stream",
     "text": [
      "Total samples: 1717, Updated regularization: 1.15e-01\n",
      "Iteration: 0, Loss: 7.310e+02, Convergence rate: inf\n",
      "Iteration: 1, Loss: 7.277e+02, Convergence rate: 4.516e-03\n",
      "Step size set to 2.000e-02\n"
     ]
    },
    {
     "name": "stderr",
     "output_type": "stream",
     "text": [
      "\r",
      "  0%|                                                                                          | 0/110 [00:00<?, ?it/s]"
     ]
    },
    {
     "name": "stdout",
     "output_type": "stream",
     "text": [
      "Iteration: 2, Loss: 7.213e+02, Convergence rate: 8.840e-03\n",
      "Step size set to 4.000e-02\n",
      "Evidence 31993.404\n",
      "Updating precision...\n"
     ]
    },
    {
     "name": "stderr",
     "output_type": "stream",
     "text": [
      "100%|████████████████████████████████████████████████████████████████████████████████| 110/110 [00:02<00:00, 50.83it/s]\n"
     ]
    },
    {
     "name": "stdout",
     "output_type": "stream",
     "text": [
      "Total samples: 1717, Updated regularization: 1.79e-01\n",
      "Iteration: 0, Loss: 8.442e+02, Convergence rate: inf\n",
      "Iteration: 1, Loss: 8.408e+02, Convergence rate: 4.092e-03\n",
      "Step size set to 2.000e-02\n"
     ]
    },
    {
     "name": "stderr",
     "output_type": "stream",
     "text": [
      "  4%|██▉                                                                               | 4/110 [00:00<00:02, 36.25it/s]"
     ]
    },
    {
     "name": "stdout",
     "output_type": "stream",
     "text": [
      "Iteration: 2, Loss: 8.340e+02, Convergence rate: 8.075e-03\n",
      "Step size set to 4.000e-02\n",
      "Evidence 33110.440\n",
      "Updating precision...\n"
     ]
    },
    {
     "name": "stderr",
     "output_type": "stream",
     "text": [
      "100%|████████████████████████████████████████████████████████████████████████████████| 110/110 [00:02<00:00, 47.99it/s]\n"
     ]
    },
    {
     "name": "stdout",
     "output_type": "stream",
     "text": [
      "Total samples: 1717, Updated regularization: 1.90e-01\n",
      "Iteration: 0, Loss: 8.564e+02, Convergence rate: inf\n",
      "Iteration: 1, Loss: 8.530e+02, Convergence rate: 3.901e-03\n",
      "Step size set to 2.000e-02\n",
      "Iteration: 2, Loss: 8.465e+02, Convergence rate: 7.658e-03\n",
      "Step size set to 4.000e-02\n",
      "Evidence 33303.964\n",
      "Elapsed time: 1018.083\n"
     ]
    }
   ],
   "source": [
    "# init dataframe to save k-fold results\n",
    "k_fold_df = pd.DataFrame()\n",
    "\n",
    "# loop through test sets \n",
    "t0 = time.time()\n",
    "for k, test_set in enumerate(test_sets):\n",
    "    # pull train and test indices\n",
    "    test_inds = np.in1d(df.Treatments.values, test_set)\n",
    "    train_df  = df.iloc[~test_inds].copy() \n",
    "    test_df   = df.iloc[test_inds].copy() \n",
    "\n",
    "    # instantiate gLV fit \n",
    "    gLV_model = ODE(train_df, params, species, n_jobs=5)\n",
    "    \n",
    "    # fit to data \n",
    "    print(\"Training fold {:.0f}/{:.0f}\".format(k+1, len(test_sets)))\n",
    "    gLV_model.fit()\n",
    "    print(\"Elapsed time: {:.3f}\".format(time.time()-t0))\n",
    "    \n",
    "    # make predictions\n",
    "    test_treatments, test_times, test_species, y_true, y_pred, y_std = test_model(gLV_model, test_df, plot=True)\n",
    "    \n",
    "    # Save predictions \n",
    "    fold_df = pd.DataFrame()\n",
    "    fold_df['Treatments'] = test_treatments\n",
    "    fold_df['Time'] = test_times\n",
    "    fold_df['Species'] = test_species\n",
    "    fold_df['Measured'] = y_true \n",
    "    fold_df['E[Predicted]'] = y_pred\n",
    "    fold_df['std[Predicted]'] = y_std \n",
    "    k_fold_df = pd.concat((k_fold_df, fold_df))"
   ]
  },
  {
   "cell_type": "markdown",
   "metadata": {},
   "source": [
    "# Save K-fold predictions"
   ]
  },
  {
   "cell_type": "code",
   "execution_count": 7,
   "metadata": {},
   "outputs": [],
   "source": [
    "#k_fold_df.to_csv(\"Kfold/Tables/{}_kfold_predictions_RmOutlier.csv\".format(dataset.replace(\"_\",\"\")), index=False)"
   ]
  },
  {
   "cell_type": "markdown",
   "metadata": {},
   "source": [
    "# Plot out-of-fold prediction performance"
   ]
  },
  {
   "cell_type": "code",
   "execution_count": 8,
   "metadata": {
    "scrolled": false
   },
   "outputs": [
    {
     "data": {
      "image/png": "[encoded data removed]",
      "text/plain": [
       "<Figure size 648x504 with 1 Axes>"
      ]
     },
     "metadata": {
      "needs_background": "light"
     },
     "output_type": "display_data"
    }
   ],
   "source": [
    "y_true = k_fold_df['Measured'].values\n",
    "y_pred = k_fold_df['E[Predicted]'].values\n",
    "y_std  = k_fold_df['std[Predicted]'].values\n",
    "\n",
    "# plot predictions vs. measured values on test data \n",
    "plt.figure(figsize=(9,7))\n",
    "OneToOne = np.linspace(np.min(y_true), np.max(y_true), 100)\n",
    "plt.plot(OneToOne, OneToOne, 'k', alpha=.5, label=\"Perfect fit: R=1\")\n",
    "\n",
    "lr_stats = linregress(y_true, y_pred)\n",
    "rho, rho_p = spearmanr(y_true, y_pred) \n",
    "y_fit = OneToOne*lr_stats.slope + lr_stats.intercept\n",
    "\n",
    "plt.plot(OneToOne, y_fit, 'k--', alpha=.65, label=r\"Model fit: R={:.2f}, $p$={:.2e}\".format(lr_stats.rvalue, lr_stats.pvalue))\n",
    "plt.errorbar(y_true, y_pred, linewidth=3, capsize=4, linestyle='none', marker='o', alpha=.7, yerr = y_std)\n",
    "\n",
    "plt.legend(fontsize=16)\n",
    "\n",
    "plt.xticks(fontsize=16)\n",
    "plt.yticks(fontsize=16)\n",
    "plt.xlabel(\"True\", fontsize=16)\n",
    "plt.ylabel(\"Predicted (y = {:.2f}x + {:.2f})\".format(lr_stats.slope, lr_stats.intercept), fontsize=16)\n",
    "plt.title(r\"{} out-of-fold predictions\".format(dataset.replace(\"_\",\" \")), fontsize=18)\n",
    "#plt.savefig(\"Figures/{}_Kfold_Predictions_RmOutlier.pdf\".format(dataset.replace(\"_\",\"\")), dpi=100)\n",
    "plt.show()"
   ]
  }
 ],
 "metadata": {
  "kernelspec": {
   "display_name": "Python 3",
   "language": "python",
   "name": "python3"
  },
  "language_info": {
   "codemirror_mode": {
    "name": "ipython",
    "version": 3
   },
   "file_extension": ".py",
   "mimetype": "text/x-python",
   "name": "python",
   "nbconvert_exporter": "python",
   "pygments_lexer": "ipython3",
   "version": "3.8.3"
  }
 },
 "nbformat": 4,
 "nbformat_minor": 4
}
